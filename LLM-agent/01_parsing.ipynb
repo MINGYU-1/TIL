{
 "cells": [
  {
   "cell_type": "code",
   "execution_count": 1,
   "id": "3f57af62",
   "metadata": {},
   "outputs": [],
   "source": [
    "from langchain.chains.llm import LLMChain\n",
    "from langchain.chains.sequential import SequentialChain\n",
    "from langchain_openai import ChatOpenAI\n",
    "from langchain_core.prompts import PromptTemplate"
   ]
  },
  {
   "cell_type": "code",
   "execution_count": 2,
   "id": "08a82c48",
   "metadata": {},
   "outputs": [],
   "source": [
    "email_conversation = \"\"\"From: 김철수 (chulsoo.kim@bikecorporation.me)\n",
    "To: 이은채 (eunchae@teddyinternational.me)\n",
    "Subject: \"ZENESIS\" 자전거 유통 협력 및 미팅 일정 제안\n",
    "\n",
    "안녕하세요, 이은채 대리님,\n",
    "\n",
    "저는 바이크코퍼레이션의 김철수 상무입니다. 최근 보도자료를 통해 귀사의 신규 자전거 \"ZENESIS\"에 대해 알게 되었습니다. 바이크코퍼레이션은 자전거 제조 및 유통 분야에서 혁신과 품질을 선도하는 기업으로, 이 분야에서의 장기적인 경험과 전문성을 가지고 있습니다.\n",
    "\n",
    "ZENESIS 모델에 대한 상세한 브로슈어를 요청드립니다. 특히 기술 사양, 배터리 성능, 그리고 디자인 측면에 대한 정보가 필요합니다. 이를 통해 저희가 제안할 유통 전략과 마케팅 계획을 보다 구체화할 수 있을 것입니다.\n",
    "\n",
    "또한, 협력 가능성을 더 깊이 논의하기 위해 다음 주 화요일(1월 15일) 오전 10시에 미팅을 제안합니다. 귀사 사무실에서 만나 이야기를 나눌 수 있을까요?\n",
    "\n",
    "감사합니다.\n",
    "\n",
    "김철수\n",
    "상무이사\n",
    "바이크코퍼레이션\n",
    "\"\"\""
   ]
  },
  {
   "cell_type": "code",
   "execution_count": 4,
   "id": "82d92472",
   "metadata": {},
   "outputs": [
    {
     "data": {
      "text/plain": [
       "True"
      ]
     },
     "execution_count": 4,
     "metadata": {},
     "output_type": "execute_result"
    }
   ],
   "source": [
    "from dotenv import load_dotenv\n",
    "load_dotenv()"
   ]
  },
  {
   "cell_type": "code",
   "execution_count": 5,
   "id": "7d753065",
   "metadata": {},
   "outputs": [
    {
     "name": "stdout",
     "output_type": "stream",
     "text": [
      "---출력파서 없는 요약---\n",
      "1. 바이크코퍼레이션의 김철수 상무가 \"ZENESIS\" 자전거에 관심을 가지고 있으며, 상세 브로슈어 요청  \n",
      "2. 요청 내용: 기술 사양, 배터리 성능, 디자인 정보 제공 필요  \n",
      "3. 미팅 일정 제안: 1월 15일(화요일) 오전 10시, 귀사 사무실에서 만남 추진\n"
     ]
    }
   ],
   "source": [
    "from langchain_core.prompts import PromptTemplate\n",
    "llm = ChatOpenAI(model = 'gpt-4.1-nano')\n",
    "prompt = PromptTemplate.from_template(\n",
    "    '아래 이메일 내용중 중요한 것만 추출해.\\n\\n---\\n\\n{email_conversation}'\n",
    ")\n",
    "\n",
    "# print(prompt.format(email_conversation=email_conversation))\n",
    "chain = prompt | llm \n",
    "\n",
    "print('---출력파서 없는 요약---')\n",
    "print(chain.invoke({'email_conversation': email_conversation}).content)"
   ]
  },
  {
   "cell_type": "code",
   "execution_count": null,
   "id": "52daa5d7",
   "metadata": {},
   "outputs": [],
   "source": [
    "from pydantic import BaseModel, Fiel"
   ]
  },
  {
   "cell_type": "code",
   "execution_count": 11,
   "id": "67c23686",
   "metadata": {},
   "outputs": [],
   "source": [
    "from langchain.output_parsers import PydanticOutputParser"
   ]
  },
  {
   "cell_type": "code",
   "execution_count": 13,
   "id": "400c0587",
   "metadata": {},
   "outputs": [
    {
     "name": "stdout",
     "output_type": "stream",
     "text": [
      "The output should be formatted as a JSON instance that conforms to the JSON schema below.\n",
      "\n",
      "As an example, for the schema {\"properties\": {\"foo\": {\"title\": \"Foo\", \"description\": \"a list of strings\", \"type\": \"array\", \"items\": {\"type\": \"string\"}}}, \"required\": [\"foo\"]}\n",
      "the object {\"foo\": [\"bar\", \"baz\"]} is a well-formatted instance of the schema. The object {\"properties\": {\"foo\": [\"bar\", \"baz\"]}} is not well-formatted.\n",
      "\n",
      "Here is the output schema:\n",
      "```\n",
      "{\"properties\": {\"person\": {\"description\": \"메일 보낸 사람\", \"title\": \"Person\", \"type\": \"string\"}, \"email\": {\"description\": \"보낸사람의 메일주소\", \"title\": \"Email\", \"type\": \"string\"}, \"summary\": {\"description\": \"메일 본문 요약\", \"title\": \"Summary\", \"type\": \"string\"}, \"date\": {\"description\": \"메일에 언급된 미팅 날짜와 시간\", \"title\": \"Date\", \"type\": \"string\"}}, \"required\": [\"person\", \"email\", \"summary\", \"date\"]}\n",
      "```\n"
     ]
    }
   ],
   "source": [
    "from pydantic import BaseModel, Field\n",
    "from langchain.output_parsers import PydanticOutputParser # 👈 이 줄을 추가하세요\n",
    "\n",
    "# Pydantic 모델 정의\n",
    "class EmailSummary(BaseModel):\n",
    "    person: str = Field(description='메일 보낸 사람')\n",
    "    email: str = Field(description='보낸사람의 메일주소')\n",
    "    summary: str = Field(description='메일 본문 요약')\n",
    "    date: str = Field(description='메일에 언급된 미팅 날짜와 시간')\n",
    "\n",
    "# 파서 객체 생성 (이제 오류 없이 실행됩니다)\n",
    "parser = PydanticOutputParser(pydantic_object=EmailSummary)\n",
    "\n",
    "# 파서가 생성한 포맷팅 지침 출력\n",
    "print(parser.get_format_instructions())"
   ]
  },
  {
   "cell_type": "code",
   "execution_count": 14,
   "id": "2a606fa1",
   "metadata": {},
   "outputs": [],
   "source": [
    "prompt = PromptTemplate.from_template(\n",
    "    \"\"\"\n",
    "너는 요약의 신 어시스턴트야. 아래 질문에 맞게 답변을 한국어로 만들어줘\n",
    "\n",
    "질문: {question}\n",
    "\n",
    "이메일 내용: {email_conversation}\n",
    "\n",
    "형식: {format}\n",
    "\"\"\"\n",
    ")\n",
    "\n",
    "# 프롬프트 변수들중 일부만 채우기\n",
    "prompt = prompt.partial(format=parser.get_format_instructions())"
   ]
  },
  {
   "cell_type": "code",
   "execution_count": 15,
   "id": "ea0250ba",
   "metadata": {},
   "outputs": [
    {
     "data": {
      "text/plain": [
       "EmailSummary(person='김철수 상무', email='chulsoo.kim@bikecorporation.me', summary=\"김철수 상무는 귀사의 자전거 'ZENESIS'에 대한 브로슈어 요청과 함께, 기술 사양, 배터리 성능, 디자인 관련 정보를 요청하며, 1월 15일 화요일 오전 10시에 미팅을 제안하여 협력 가능성을 논의하려고 합니다.\", date='2023년 1월 15일 오전 10시')"
      ]
     },
     "execution_count": 15,
     "metadata": {},
     "output_type": "execute_result"
    }
   ],
   "source": [
    "chain = prompt | llm | parser\n",
    "\n",
    "res = chain.invoke(\n",
    "    {\n",
    "        'question': '이메일 내용중 중요한 내용을 추출해 줘!',\n",
    "        'email_conversation': email_conversation\n",
    "    }\n",
    ")\n",
    "\n",
    "res"
   ]
  },
  {
   "cell_type": "code",
   "execution_count": 16,
   "id": "33697709",
   "metadata": {},
   "outputs": [
    {
     "name": "stdout",
     "output_type": "stream",
     "text": [
      "{'date': '2023년 1월 15일 오전 10시',\n",
      " 'email': 'chulsoo.kim@bikecorporation.me',\n",
      " 'person': '김철수 상무',\n",
      " 'summary': \"김철수 상무는 귀사의 자전거 'ZENESIS'에 대한 브로슈어 요청과 함께, 기술 사양, 배터리 성능, 디자인 관련 \"\n",
      "            '정보를 요청하며, 1월 15일 화요일 오전 10시에 미팅을 제안하여 협력 가능성을 논의하려고 합니다.'}\n"
     ]
    }
   ],
   "source": [
    "from pprint import pprint\n",
    "pprint(res.model_dump())\n"
   ]
  },
  {
   "cell_type": "code",
   "execution_count": 17,
   "id": "c6c60e84",
   "metadata": {},
   "outputs": [
    {
     "name": "stdout",
     "output_type": "stream",
     "text": [
      "Your response should be a list of comma separated values, eg: `foo, bar, baz` or `foo,bar,baz`\n",
      "----\n",
      "List 5 중국집대표메뉴.\n",
      "Your response should be a list of comma separated values, eg: `foo, bar, baz` or `foo,bar,baz`\n"
     ]
    }
   ],
   "source": [
    "from langchain_core.output_parsers import CommaSeparatedListOutputParser\n",
    "\n",
    "output_parser = CommaSeparatedListOutputParser()\n",
    "\n",
    "# CSV 파서의 안내사항 확인\n",
    "print(output_parser.get_format_instructions())\n",
    "\n",
    "prompt = PromptTemplate(\n",
    "    template='List 5 {subject}.\\n{format_instructions}',\n",
    "    input_variables=['subject'],\n",
    "    partial_variables={'format_instructions': output_parser.get_format_instructions()}\n",
    ")\n",
    "print('----')\n",
    "print(prompt.format(subject='중국집대표메뉴'))\n",
    "\n",
    "chain1 = prompt | llm\n",
    "csv_res = chain1.invoke({'subject': '맥도날드 대표메뉴'}).content\n",
    "\n",
    "\n",
    "chain2 = prompt | llm | output_parser\n",
    "list_res = chain2.invoke({'subject': '국민주식'})"
   ]
  },
  {
   "cell_type": "code",
   "execution_count": 18,
   "id": "691f5c91",
   "metadata": {},
   "outputs": [
    {
     "name": "stdout",
     "output_type": "stream",
     "text": [
      "Big Mac, Quarter Pounder, Chicken McNuggets, Filet-O-Fish, McChicken\n",
      "['삼성전자', 'SK하이닉스', '현대자동차', 'LG화학', 'POSCO']\n"
     ]
    }
   ],
   "source": [
    "print(csv_res)\n",
    "print(list_res)"
   ]
  },
  {
   "cell_type": "code",
   "execution_count": 19,
   "id": "a992e3d6",
   "metadata": {},
   "outputs": [],
   "source": [
    "from langchain.output_parsers import PandasDataFrameOutputParser\n",
    "import seaborn as sns\n",
    "titanic_df = sns.load_dataset('titanic')"
   ]
  },
  {
   "cell_type": "code",
   "execution_count": 21,
   "id": "7e9e02b4",
   "metadata": {},
   "outputs": [
    {
     "name": "stdout",
     "output_type": "stream",
     "text": [
      "The output should be formatted as a string as the operation, followed by a colon, followed by the column or row to be queried on, followed by optional array parameters.\n",
      "1. The column names are limited to the possible columns below.\n",
      "2. Arrays must either be a comma-separated list of numbers formatted as [1,3,5], or it must be in range of numbers formatted as [0..4].\n",
      "3. Remember that arrays are optional and not necessarily required.\n",
      "4. If the column is not in the possible columns or the operation is not a valid Pandas DataFrame operation, return why it is invalid as a sentence starting with either \"Invalid column\" or \"Invalid operation\".\n",
      "\n",
      "As an example, for the formats:\n",
      "1. String \"column:num_legs\" is a well-formatted instance which gets the column num_legs, where num_legs is a possible column.\n",
      "2. String \"row:1\" is a well-formatted instance which gets row 1.\n",
      "3. String \"column:num_legs[1,2]\" is a well-formatted instance which gets the column num_legs for rows 1 and 2, where num_legs is a possible column.\n",
      "4. String \"row:1[num_legs]\" is a well-formatted instance which gets row 1, but for just column num_legs, where num_legs is a possible column.\n",
      "5. String \"mean:num_legs[1..3]\" is a well-formatted instance which takes the mean of num_legs from rows 1 to 3, where num_legs is a possible column and mean is a valid Pandas DataFrame operation.\n",
      "6. String \"do_something:num_legs\" is a badly-formatted instance, where do_something is not a valid Pandas DataFrame operation.\n",
      "7. String \"mean:invalid_col\" is a badly-formatted instance, where invalid_col is not a possible column.\n",
      "\n",
      "Here are the possible columns:\n",
      "```\n",
      "survived, pclass, sex, age, sibsp, parch, fare, embarked, class, who, adult_male, deck, embark_town, alive, alone\n",
      "```\n",
      "\n"
     ]
    }
   ],
   "source": [
    "parser = PandasDataFrameOutputParser(dataframe=titanic_df)\n",
    "print(parser.get_format_instructions())"
   ]
  },
  {
   "cell_type": "code",
   "execution_count": 22,
   "id": "c7a4f46f",
   "metadata": {},
   "outputs": [
    {
     "name": "stdout",
     "output_type": "stream",
     "text": [
      "0      22.0\n",
      "1      38.0\n",
      "2      26.0\n",
      "3      35.0\n",
      "4      35.0\n",
      "       ... \n",
      "886    27.0\n",
      "887    19.0\n",
      "888     NaN\n",
      "889    26.0\n",
      "890    32.0\n",
      "Name: age, Length: 891, dtype: float64\n"
     ]
    }
   ],
   "source": [
    "\n",
    "prompt = PromptTemplate(\n",
    "    template='Answer the user query.\\n{format_instructions}\\n{query}',\n",
    "    input_variables=['query'],\n",
    "    partial_variables={'format_instructions': parser.get_format_instructions()},\n",
    ")\n",
    "\n",
    "chain = prompt | llm | parser\n",
    "\n",
    "res = chain.invoke({'query': 'age 컬럼을 조회해 줘'})\n",
    "print(res['age'])  # Sereis"
   ]
  }
 ],
 "metadata": {
  "kernelspec": {
   "display_name": "base",
   "language": "python",
   "name": "python3"
  },
  "language_info": {
   "codemirror_mode": {
    "name": "ipython",
    "version": 3
   },
   "file_extension": ".py",
   "mimetype": "text/x-python",
   "name": "python",
   "nbconvert_exporter": "python",
   "pygments_lexer": "ipython3",
   "version": "3.12.7"
  }
 },
 "nbformat": 4,
 "nbformat_minor": 5
}
