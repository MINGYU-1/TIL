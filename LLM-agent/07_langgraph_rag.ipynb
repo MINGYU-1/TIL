{
 "cells": [
  {
   "cell_type": "code",
   "execution_count": null,
   "id": "a5a1af3e",
   "metadata": {},
   "outputs": [],
   "source": [
    "from dotenv import load_dotenv\n",
    "load_dotenv()"
   ]
  },
  {
   "cell_type": "code",
   "execution_count": null,
   "id": "3124e355",
   "metadata": {},
   "outputs": [],
   "source": [
    "from langchain_community.vectorstores import FAISS"
   ]
  },
  {
   "cell_type": "code",
   "execution_count": null,
   "id": "68377821",
   "metadata": {},
   "outputs": [],
   "source": [
    "# from langchain_core.vectorstores import FAISS\n",
    "from pprint import pprint\n",
    "\n",
    "# 1. Loader (웹문서)\n",
    "from langchain_community.document_loaders import WebBaseLoader\n",
    "from bs4.filter import SoupStrainer  # pip install beautifulsoup4\n",
    "\n",
    "loader = WebBaseLoader(\n",
    "    # 문서 출처 URL\n",
    "    web_paths=('https://lilianweng.github.io/posts/2023-06-23-agent/', ),\n",
    "    # 웹페이지 안에서 필요한 정보만 선택\n",
    "    bs_kwargs={\n",
    "        'parse_only': SoupStrainer(class_=['post-content']) \n",
    "    }\n",
    "    # header_template={}\n",
    ")\n",
    "docs = loader.load()\n",
    "\n",
    "# 2. Splitter\n",
    "from langchain_text_splitters import RecursiveCharacterTextSplitter\n",
    "\n",
    "splitter = RecursiveCharacterTextSplitter(chunk_size=1000, chunk_overlap=200)\n",
    "splitted_docs = splitter.split_documents(docs)\n",
    "print(len(splitted_docs))\n",
    "\n",
    "# 3. Embedding Model\n",
    "from langchain_openai import OpenAIEmbeddings\n",
    "embedding = OpenAIEmbeddings(model='text-embedding-3-small')  # small <-> large\n",
    "\n",
    "# 4. Vectorstore (지금은 FAISS -> 클라우드-Pinecone)\n",
    "from langchain_community.vectorstores import FAISS\n",
    "\n",
    "vectorstore = FAISS.from_documents(splitted_docs, embedding=embedding)\n"
   ]
  },
  {
   "cell_type": "code",
   "execution_count": 11,
   "id": "ee4baa25",
   "metadata": {},
   "outputs": [
    {
     "name": "stderr",
     "output_type": "stream",
     "text": [
      "C:\\Users\\mingyu\\AppData\\Local\\Temp\\ipykernel_28020\\2652278178.py:21: LangChainDeprecationWarning: The method `BaseTool.__call__` was deprecated in langchain-core 0.1.47 and will be removed in 1.0. Use :meth:`~invoke` instead.\n",
      "  retrieve('에이전트에 대해 설명해줘')\n"
     ]
    },
    {
     "data": {
      "text/plain": [
       "'Source:{\\'source\\': \\'https://lilianweng.github.io/posts/2023-06-23-agent/\\'}\\nContent:}\\n]\\nThen after these clarification, the agent moved into the code writing mode with a different system message.\\nSystem message:\\n\\nSource:{\\'source\\': \\'https://lilianweng.github.io/posts/2023-06-23-agent/\\'}\\nContent:\"content\": \"You will get instructions for code to write.\\\\nYou will write a very long answer. Make sure that every detail of the architecture is, in the end, implemented as code.\\\\nMake sure that every detail of the architecture is, in the end, implemented as code.\\\\n\\\\nThink step by step and reason yourself to the right decisions to make sure we get it right.\\\\nYou will first lay out the names of the core classes, functions, methods that will be necessary, as well as a quick comment on their purpose.\\\\n\\\\nThen you will output the content of each file including ALL code.\\\\nEach file must strictly follow a markdown code block format, where the following tokens must be replaced such that\\\\nFILENAME is the lowercase file name including the file extension,\\\\nLANG is the markup code block language for the code\\'s language, and CODE is the code:\\\\n\\\\nFILENAME\\\\n```LANG\\\\nCODE\\\\n```\\\\n\\\\nYou will start with the \\\\\"entrypoint\\\\\" file, then go to the ones that are imported by that file, and so on.\\\\nPlease\\n\\nSource:{\\'source\\': \\'https://lilianweng.github.io/posts/2023-06-23-agent/\\'}\\nContent:},\\n  {\\n    \"role\": \"user\",\\n    \"content\": \"{{There are 10 levels in total. The main character is a plumber named Mario, who can walk and jump. It is a classical platform game just like Super Mario. The main character moves from left to right, trying to get to the destination, where there are many obstacles and attacks from enemies in the process.}}\\\\n\\\\nIs anything else unclear? If yes, only answer in the form:\\\\n{remaining unclear areas} remaining questions.\\\\n{Next question}\\\\nIf everything is sufficiently clear, only answer \\\\\"Nothing more to clarify.\\\\\".\"\\n  },\\n  {\\n    \"role\": \"assistant\",\\n    \"content\": \"Remaining unclear areas: 2 remaining questions.\\\\nCan you provide more information about how the MVC components are split into separate files?\"\\n  },\\n  {\\n    \"role\": \"user\",\\n    \"content\": \"{{Make your own assumptions and state them explicitly before starting}}\"\\n  }\\n]\\nThen after these clarification, the agent moved into the code writing mode with a different system message.'"
      ]
     },
     "execution_count": 11,
     "metadata": {},
     "output_type": "execute_result"
    }
   ],
   "source": [
    "from langgraph.graph import MessagesState, StateGraph\n",
    "from langchain_core.tools import tool\n",
    "builder = StateGraph(MessagesState) # 2개를 return 한다\n",
    "\n",
    "@tool(response_format = 'content_and_artifact')\n",
    "def retrieve(query:str):\n",
    "    '''Retrieve information related to a query\n",
    "    Args:\n",
    "        query : Query to Search\n",
    "    '''\n",
    "    # 원본 Document list(artifact)\n",
    "    docs = vectorstore.similarity_search(query, k = 3)\n",
    "    # 편집한 텍스트 (content)\n",
    "    result_text = '\\n\\n'.join(\n",
    "        (f'Source:{doc.metadata}\\nContent:{doc.page_content}')\n",
    "        for doc in docs\n",
    "    )\n",
    "    return result_text, docs\n",
    "\n",
    "\n",
    "retrieve('에이전트에 대해 설명해줘')"
   ]
  },
  {
   "cell_type": "code",
   "execution_count": 26,
   "id": "c911a0c0",
   "metadata": {},
   "outputs": [],
   "source": [
    "from langchain_core.messages import SystemMessage\n",
    "from langgraph.graph import MessagesState, StateGraph\n",
    "from langgraph.prebuilt import ToolNode, tools_condition\n",
    "from langchain_openai import ChatOpenAI\n",
    "from langgraph.graph import START, END\n",
    "\n",
    "\n",
    "llm = ChatOpenAI(model='gpt-4.1',temperature = 0)\n",
    "\n",
    "builder = StateGraph(MessagesState) # 'messages'\n",
    "\n",
    "# Node\n",
    "def query_or_respond(state:MessagesState):\n",
    "    '''도구 호출을 하거나 최종 응답을 한다.'''\n",
    "    llm_with_tools = llm.bind_tools([retrieve])\n",
    "    res = llm_with_tools.invoke(state['messages'])\n",
    "    return {'messages':[res]}\n",
    "\n",
    "tools = ToolNode([retrieve])\n",
    "\n",
    "  \n",
    "def generate(state: MessagesState):\n",
    "    \"\"\"응답 생성\"\"\"\n",
    "    tool_messages = []\n",
    "    for msg in reversed(state['messages']): # 최신 메세지부터 순회\n",
    "        if msg.type == 'tool':\n",
    "            tool_messages.append(msg)\n",
    "        else:\n",
    "            break\n",
    "\n",
    "    tool_messages.reverse()\n",
    "\n",
    "    docs_content = '\\n\\n'.join(doc.content for doc in tool_messages)\n",
    "    system_message_content = (\n",
    "        \"You are an assistant for question-answering tasks. \"\n",
    "        \"Use the following pieces of retrieved context to answer \"\n",
    "        \"the question. If you don't know the answer, say that you \"\n",
    "        \"don't know. Use three sentences maximum and keep the \"\n",
    "        \"answer concise.\"\n",
    "        \"\\n\\n\"\n",
    "        f\"{docs_content}\"\n",
    "    )\n",
    "    # 필요 없는 Tool 메세지들을 제외하고, AI, Human, System 메세지만 모아서 정리\n",
    "    conversation_messages = [\n",
    "        message\n",
    "        for message in state[\"messages\"]\n",
    "        if message.type in (\"human\", \"system\")\n",
    "        or (message.type == \"ai\" and not message.tool_calls)\n",
    "    ]\n",
    "    prompt = [SystemMessage(system_message_content)] + conversation_messages\n",
    "\n",
    "    # Run\n",
    "    response = llm.invoke(prompt)\n",
    "    return {\"messages\": [response]}\n",
    "\n",
    "\n"
   ]
  },
  {
   "cell_type": "code",
   "execution_count": 27,
   "id": "a0788d53",
   "metadata": {},
   "outputs": [
    {
     "ename": "ValueError",
     "evalue": "Found edge starting at unknown node 'query_or_respond'",
     "output_type": "error",
     "traceback": [
      "\u001b[1;31m---------------------------------------------------------------------------\u001b[0m",
      "\u001b[1;31mValueError\u001b[0m                                Traceback (most recent call last)",
      "Cell \u001b[1;32mIn[27], line 13\u001b[0m\n\u001b[0;32m     11\u001b[0m builder\u001b[38;5;241m.\u001b[39madd_edge(\u001b[38;5;124m'\u001b[39m\u001b[38;5;124mtools\u001b[39m\u001b[38;5;124m'\u001b[39m,\u001b[38;5;124m'\u001b[39m\u001b[38;5;124mgenerate\u001b[39m\u001b[38;5;124m'\u001b[39m)\n\u001b[0;32m     12\u001b[0m builder\u001b[38;5;241m.\u001b[39madd_edge(\u001b[38;5;124m'\u001b[39m\u001b[38;5;124mgenerate\u001b[39m\u001b[38;5;124m'\u001b[39m,END)\n\u001b[1;32m---> 13\u001b[0m graph \u001b[38;5;241m=\u001b[39m builder\u001b[38;5;241m.\u001b[39mcompile()\n",
      "File \u001b[1;32mc:\\Users\\mingyu\\anaconda3\\Lib\\site-packages\\langgraph\\graph\\state.py:829\u001b[0m, in \u001b[0;36mStateGraph.compile\u001b[1;34m(self, checkpointer, cache, store, interrupt_before, interrupt_after, debug, name)\u001b[0m\n\u001b[0;32m    826\u001b[0m interrupt_after \u001b[38;5;241m=\u001b[39m interrupt_after \u001b[38;5;129;01mor\u001b[39;00m []\n\u001b[0;32m    828\u001b[0m \u001b[38;5;66;03m# validate the graph\u001b[39;00m\n\u001b[1;32m--> 829\u001b[0m \u001b[38;5;28mself\u001b[39m\u001b[38;5;241m.\u001b[39mvalidate(\n\u001b[0;32m    830\u001b[0m     interrupt\u001b[38;5;241m=\u001b[39m(\n\u001b[0;32m    831\u001b[0m         (interrupt_before \u001b[38;5;28;01mif\u001b[39;00m interrupt_before \u001b[38;5;241m!=\u001b[39m \u001b[38;5;124m\"\u001b[39m\u001b[38;5;124m*\u001b[39m\u001b[38;5;124m\"\u001b[39m \u001b[38;5;28;01melse\u001b[39;00m []) \u001b[38;5;241m+\u001b[39m interrupt_after\n\u001b[0;32m    832\u001b[0m         \u001b[38;5;28;01mif\u001b[39;00m interrupt_after \u001b[38;5;241m!=\u001b[39m \u001b[38;5;124m\"\u001b[39m\u001b[38;5;124m*\u001b[39m\u001b[38;5;124m\"\u001b[39m\n\u001b[0;32m    833\u001b[0m         \u001b[38;5;28;01melse\u001b[39;00m []\n\u001b[0;32m    834\u001b[0m     )\n\u001b[0;32m    835\u001b[0m )\n\u001b[0;32m    837\u001b[0m \u001b[38;5;66;03m# prepare output channels\u001b[39;00m\n\u001b[0;32m    838\u001b[0m output_channels \u001b[38;5;241m=\u001b[39m (\n\u001b[0;32m    839\u001b[0m     \u001b[38;5;124m\"\u001b[39m\u001b[38;5;124m__root__\u001b[39m\u001b[38;5;124m\"\u001b[39m\n\u001b[0;32m    840\u001b[0m     \u001b[38;5;28;01mif\u001b[39;00m \u001b[38;5;28mlen\u001b[39m(\u001b[38;5;28mself\u001b[39m\u001b[38;5;241m.\u001b[39mschemas[\u001b[38;5;28mself\u001b[39m\u001b[38;5;241m.\u001b[39moutput_schema]) \u001b[38;5;241m==\u001b[39m \u001b[38;5;241m1\u001b[39m\n\u001b[1;32m   (...)\u001b[0m\n\u001b[0;32m    846\u001b[0m     ]\n\u001b[0;32m    847\u001b[0m )\n",
      "File \u001b[1;32mc:\\Users\\mingyu\\anaconda3\\Lib\\site-packages\\langgraph\\graph\\state.py:756\u001b[0m, in \u001b[0;36mStateGraph.validate\u001b[1;34m(self, interrupt)\u001b[0m\n\u001b[0;32m    754\u001b[0m \u001b[38;5;28;01mfor\u001b[39;00m source \u001b[38;5;129;01min\u001b[39;00m all_sources:\n\u001b[0;32m    755\u001b[0m     \u001b[38;5;28;01mif\u001b[39;00m source \u001b[38;5;129;01mnot\u001b[39;00m \u001b[38;5;129;01min\u001b[39;00m \u001b[38;5;28mself\u001b[39m\u001b[38;5;241m.\u001b[39mnodes \u001b[38;5;129;01mand\u001b[39;00m source \u001b[38;5;241m!=\u001b[39m START:\n\u001b[1;32m--> 756\u001b[0m         \u001b[38;5;28;01mraise\u001b[39;00m \u001b[38;5;167;01mValueError\u001b[39;00m(\u001b[38;5;124mf\u001b[39m\u001b[38;5;124m\"\u001b[39m\u001b[38;5;124mFound edge starting at unknown node \u001b[39m\u001b[38;5;124m'\u001b[39m\u001b[38;5;132;01m{\u001b[39;00msource\u001b[38;5;132;01m}\u001b[39;00m\u001b[38;5;124m'\u001b[39m\u001b[38;5;124m\"\u001b[39m)\n\u001b[0;32m    758\u001b[0m \u001b[38;5;28;01mif\u001b[39;00m START \u001b[38;5;129;01mnot\u001b[39;00m \u001b[38;5;129;01min\u001b[39;00m all_sources:\n\u001b[0;32m    759\u001b[0m     \u001b[38;5;28;01mraise\u001b[39;00m \u001b[38;5;167;01mValueError\u001b[39;00m(\n\u001b[0;32m    760\u001b[0m         \u001b[38;5;124m\"\u001b[39m\u001b[38;5;124mGraph must have an entrypoint: add at least one edge from START to another node\u001b[39m\u001b[38;5;124m\"\u001b[39m\n\u001b[0;32m    761\u001b[0m     )\n",
      "\u001b[1;31mValueError\u001b[0m: Found edge starting at unknown node 'query_or_respond'"
     ]
    }
   ],
   "source": [
    "# builder.add_node('query_or_respond',query_or_respond)\n",
    "# builder.add_node(tools)\n",
    "builder.add_node(generate)\n",
    "\n",
    "builder.add_edge(START,'query_or_respond')\n",
    "builder.add_conditional_edges(\n",
    "    'query_or_respond',\n",
    "    tools_condition,\n",
    "    {END: END,'tools':'tools'} # 정확하게 상황별 다음 Node를 지정할 수 있음\n",
    "    )\n",
    "builder.add_edge('tools','generate')\n",
    "builder.add_edge('generate',END)\n",
    "graph = builder.compile()"
   ]
  }
 ],
 "metadata": {
  "kernelspec": {
   "display_name": "base",
   "language": "python",
   "name": "python3"
  },
  "language_info": {
   "codemirror_mode": {
    "name": "ipython",
    "version": 3
   },
   "file_extension": ".py",
   "mimetype": "text/x-python",
   "name": "python",
   "nbconvert_exporter": "python",
   "pygments_lexer": "ipython3",
   "version": "3.12.7"
  }
 },
 "nbformat": 4,
 "nbformat_minor": 5
}
