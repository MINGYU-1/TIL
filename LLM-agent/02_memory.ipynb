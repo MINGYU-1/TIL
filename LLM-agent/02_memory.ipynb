{
 "cells": [
  {
   "cell_type": "code",
   "execution_count": 1,
   "id": "ab7922cb",
   "metadata": {},
   "outputs": [
    {
     "ename": "ImportError",
     "evalue": "cannot import name 'RunnableLambda' from 'langchain.runnables' (c:\\Users\\mingyu\\anaconda3\\Lib\\site-packages\\langchain\\runnables\\__init__.py)",
     "output_type": "error",
     "traceback": [
      "\u001b[1;31m---------------------------------------------------------------------------\u001b[0m",
      "\u001b[1;31mImportError\u001b[0m                               Traceback (most recent call last)",
      "Cell \u001b[1;32mIn[1], line 3\u001b[0m\n\u001b[0;32m      1\u001b[0m \u001b[38;5;28;01mfrom\u001b[39;00m \u001b[38;5;21;01mlangchain\u001b[39;00m\u001b[38;5;21;01m.\u001b[39;00m\u001b[38;5;21;01mmemory\u001b[39;00m \u001b[38;5;28;01mimport\u001b[39;00m ConversationBufferMemory\n\u001b[0;32m      2\u001b[0m \u001b[38;5;28;01mfrom\u001b[39;00m \u001b[38;5;21;01mlangchain_core\u001b[39;00m\u001b[38;5;21;01m.\u001b[39;00m\u001b[38;5;21;01mprompts\u001b[39;00m \u001b[38;5;28;01mimport\u001b[39;00m ChatPromptTemplate,MessagesPlaceholder\n\u001b[1;32m----> 3\u001b[0m \u001b[38;5;28;01mfrom\u001b[39;00m \u001b[38;5;21;01mlangchain\u001b[39;00m\u001b[38;5;21;01m.\u001b[39;00m\u001b[38;5;21;01mrunnables\u001b[39;00m \u001b[38;5;28;01mimport\u001b[39;00m RunnableLambda, RunnablePassthrough\n\u001b[0;32m      4\u001b[0m \u001b[38;5;28;01mfrom\u001b[39;00m \u001b[38;5;21;01mlangchain_openai\u001b[39;00m \u001b[38;5;28;01mimport\u001b[39;00m ChatOpenAI\n\u001b[0;32m      5\u001b[0m llm \u001b[38;5;241m=\u001b[39m ChatOpenAI(model \u001b[38;5;241m=\u001b[39m \u001b[38;5;124m'\u001b[39m\u001b[38;5;124mgpt-4.1-nano\u001b[39m\u001b[38;5;124m'\u001b[39m,temperature \u001b[38;5;241m=\u001b[39m \u001b[38;5;241m0\u001b[39m)\n",
      "\u001b[1;31mImportError\u001b[0m: cannot import name 'RunnableLambda' from 'langchain.runnables' (c:\\Users\\mingyu\\anaconda3\\Lib\\site-packages\\langchain\\runnables\\__init__.py)"
     ]
    }
   ],
   "source": [
    "from langchain.memory import ConversationBufferMemory\n",
    "from langchain_core.prompts import ChatPromptTemplate,MessagesPlaceholder\n",
    "from langchain.runnables import RunnableLambda, RunnablePassthrough\n",
    "from langchain_openai import ChatOpenAI\n",
    "llm = ChatOpenAI(model = 'gpt-4.1-nano',temperature = 0)\n",
    "prompt = ChatPromptTemplate(\n",
    "    [\n",
    "        ('system','넌 유용한 챗봇이야'),\n",
    "        MessagesPlaceholder(variable_name = 'chat_history') # 기존 채팅 내역을 다 주입\n",
    "        ('human','{input}')\n",
    "    ]\n",
    ")\n",
    "\n",
    "memory = ConversationBufferMemory(return_messages=True, memory_key='chat_history')\n",
    "\n",
    "memory.load_memory_variables({})"
   ]
  },
  {
   "cell_type": "code",
   "execution_count": 2,
   "id": "21a84e6f",
   "metadata": {},
   "outputs": [
    {
     "name": "stdout",
     "output_type": "stream",
     "text": [
      "Requirement already satisfied: langchain_core in c:\\users\\mingyu\\anaconda3\\lib\\site-packages (0.3.75)\n",
      "Requirement already satisfied: langsmith>=0.3.45 in c:\\users\\mingyu\\anaconda3\\lib\\site-packages (from langchain_core) (0.4.23)\n",
      "Requirement already satisfied: tenacity!=8.4.0,<10.0.0,>=8.1.0 in c:\\users\\mingyu\\anaconda3\\lib\\site-packages (from langchain_core) (8.2.3)\n",
      "Requirement already satisfied: jsonpatch<2.0,>=1.33 in c:\\users\\mingyu\\anaconda3\\lib\\site-packages (from langchain_core) (1.33)\n",
      "Requirement already satisfied: PyYAML>=5.3 in c:\\users\\mingyu\\anaconda3\\lib\\site-packages (from langchain_core) (6.0.1)\n",
      "Requirement already satisfied: typing-extensions>=4.7 in c:\\users\\mingyu\\anaconda3\\lib\\site-packages (from langchain_core) (4.15.0)\n",
      "Requirement already satisfied: packaging>=23.2 in c:\\users\\mingyu\\anaconda3\\lib\\site-packages (from langchain_core) (24.1)\n",
      "Requirement already satisfied: pydantic>=2.7.4 in c:\\users\\mingyu\\anaconda3\\lib\\site-packages (from langchain_core) (2.8.2)\n",
      "Requirement already satisfied: jsonpointer>=1.9 in c:\\users\\mingyu\\anaconda3\\lib\\site-packages (from jsonpatch<2.0,>=1.33->langchain_core) (2.1)\n",
      "Requirement already satisfied: httpx<1,>=0.23.0 in c:\\users\\mingyu\\anaconda3\\lib\\site-packages (from langsmith>=0.3.45->langchain_core) (0.27.0)\n",
      "Requirement already satisfied: orjson>=3.9.14 in c:\\users\\mingyu\\anaconda3\\lib\\site-packages (from langsmith>=0.3.45->langchain_core) (3.11.3)\n",
      "Requirement already satisfied: requests-toolbelt>=1.0.0 in c:\\users\\mingyu\\anaconda3\\lib\\site-packages (from langsmith>=0.3.45->langchain_core) (1.0.0)\n",
      "Requirement already satisfied: requests>=2.0.0 in c:\\users\\mingyu\\anaconda3\\lib\\site-packages (from langsmith>=0.3.45->langchain_core) (2.32.5)\n",
      "Requirement already satisfied: zstandard>=0.23.0 in c:\\users\\mingyu\\anaconda3\\lib\\site-packages (from langsmith>=0.3.45->langchain_core) (0.23.0)\n",
      "Requirement already satisfied: annotated-types>=0.4.0 in c:\\users\\mingyu\\anaconda3\\lib\\site-packages (from pydantic>=2.7.4->langchain_core) (0.6.0)\n",
      "Requirement already satisfied: pydantic-core==2.20.1 in c:\\users\\mingyu\\anaconda3\\lib\\site-packages (from pydantic>=2.7.4->langchain_core) (2.20.1)\n",
      "Requirement already satisfied: anyio in c:\\users\\mingyu\\anaconda3\\lib\\site-packages (from httpx<1,>=0.23.0->langsmith>=0.3.45->langchain_core) (4.2.0)\n",
      "Requirement already satisfied: certifi in c:\\users\\mingyu\\anaconda3\\lib\\site-packages (from httpx<1,>=0.23.0->langsmith>=0.3.45->langchain_core) (2025.1.31)\n",
      "Requirement already satisfied: httpcore==1.* in c:\\users\\mingyu\\anaconda3\\lib\\site-packages (from httpx<1,>=0.23.0->langsmith>=0.3.45->langchain_core) (1.0.2)\n",
      "Requirement already satisfied: idna in c:\\users\\mingyu\\anaconda3\\lib\\site-packages (from httpx<1,>=0.23.0->langsmith>=0.3.45->langchain_core) (3.7)\n",
      "Requirement already satisfied: sniffio in c:\\users\\mingyu\\anaconda3\\lib\\site-packages (from httpx<1,>=0.23.0->langsmith>=0.3.45->langchain_core) (1.3.0)\n",
      "Requirement already satisfied: h11<0.15,>=0.13 in c:\\users\\mingyu\\anaconda3\\lib\\site-packages (from httpcore==1.*->httpx<1,>=0.23.0->langsmith>=0.3.45->langchain_core) (0.14.0)\n",
      "Requirement already satisfied: charset_normalizer<4,>=2 in c:\\users\\mingyu\\anaconda3\\lib\\site-packages (from requests>=2.0.0->langsmith>=0.3.45->langchain_core) (3.3.2)\n",
      "Requirement already satisfied: urllib3<3,>=1.21.1 in c:\\users\\mingyu\\anaconda3\\lib\\site-packages (from requests>=2.0.0->langsmith>=0.3.45->langchain_core) (2.2.3)\n",
      "Note: you may need to restart the kernel to use updated packages.\n"
     ]
    }
   ],
   "source": [
    "%pip install langchain_core"
   ]
  },
  {
   "cell_type": "code",
   "execution_count": null,
   "id": "c8bbeaba",
   "metadata": {},
   "outputs": [],
   "source": [
    "import time\n",
    "from operator import itemgetter\n",
    "from langchain.memory import ConversationBufferWindowMemory\n",
    "from langchain_core.prompts import ChatPromptTemplate, MessagesPlaceholder\n",
    "from langchain_core.runnables import RunnableLambda, RunnablePassthrough\n",
    "from langchain_core.output_parsers import  PydanticOutputParser, StrOutputParser\n",
    "from langchain_openai import ChatOpenAI\n",
    "from pydantic import BaseModel, Field\n",
    "\n",
    "llm = ChatOpenAI(model = 'gpt-4.1-nano',temperature = 0)\n",
    "prompt = ChatPromptTemplate(\n",
    "    [\n",
    "        ('system','넌 좀 틱틱대는 챗봇이야'),\n",
    "        MessagesPlaceholder(variable_name = 'chat_history'),\n",
    "        ('human','{input}'),\n",
    "    ]\n",
    ")\n",
    "# Memory\n",
    "memory = ConversationBufferMemory(return_messages= True, memory_key = 'chat_history')\n",
    "runnable = RunnablePassthrough.assign(\n",
    "    chat_history=RunnableLambda(memory.load_memory_variables)|\n",
    "    itemgetter('chat_history')\n",
    ")\n",
    "chain = runnable| prompt| llm | StrOutputParser()\n",
    "#메세지 스트리밍 하는 함수\n",
    "def stream_msg(chain, msg):\n",
    "    full_msg = ''\n",
    "    print('AI: ',end = '')\n",
    "    for token in chain.stream({'input':msg}):\n",
    "        full_msg += token\n",
    "        print(token, end = '', flush = True)\n",
    "    print('\\n---')\n",
    "    return full_msg\n",
    "input_msg = ''"
   ]
  },
  {
   "cell_type": "code",
   "execution_count": null,
   "id": "08f027a8",
   "metadata": {},
   "outputs": [],
   "source": []
  },
  {
   "cell_type": "code",
   "execution_count": null,
   "id": "a4986c13",
   "metadata": {},
   "outputs": [],
   "source": [
    "from operator import itemgetter\n",
    "runnable = RunnablePassthrough.assign(\n",
    "    chat_history = RunnableLambda(memory.load_memory_variables)|\n",
    "    itemgettter('chat_history')\n",
    ")"
   ]
  }
 ],
 "metadata": {
  "kernelspec": {
   "display_name": "base",
   "language": "python",
   "name": "python3"
  },
  "language_info": {
   "codemirror_mode": {
    "name": "ipython",
    "version": 3
   },
   "file_extension": ".py",
   "mimetype": "text/x-python",
   "name": "python",
   "nbconvert_exporter": "python",
   "pygments_lexer": "ipython3",
   "version": "3.12.7"
  }
 },
 "nbformat": 4,
 "nbformat_minor": 5
}
