{
 "cells": [
  {
   "cell_type": "markdown",
   "id": "d17625a9",
   "metadata": {},
   "source": [
    "# Memory( 대화 내용 기억)\n",
    "- 대화 내용 기억\n",
    "- LLM은 기본적으로 대화 내용을 기억하지 않는다.(stateless)\n",
    "- 이전 대화내용을 게속 프롬프트에 주입해야 함\n",
    "1. Short-Term Mermory\n",
    "    - 단기기억: 한 대화 세션에 대한 기억\n",
    "1. Long-Term Memory\n",
    "    - 장기기억: 전체 세션에서 추출한 중요한 정보"
   ]
  },
  {
   "cell_type": "code",
   "execution_count": 2,
   "id": "adcf4dae",
   "metadata": {},
   "outputs": [
    {
     "data": {
      "text/plain": [
       "True"
      ]
     },
     "execution_count": 2,
     "metadata": {},
     "output_type": "execute_result"
    }
   ],
   "source": [
    "from dotenv import load_dotenv\n",
    "load_dotenv()"
   ]
  },
  {
   "cell_type": "code",
   "execution_count": 3,
   "id": "559e6c27",
   "metadata": {},
   "outputs": [
    {
     "name": "stderr",
     "output_type": "stream",
     "text": [
      "C:\\Users\\mingyu\\AppData\\Local\\Temp\\ipykernel_26880\\3956690423.py:16: LangChainDeprecationWarning: Please see the migration guide at: https://python.langchain.com/docs/versions/migrating_memory/\n",
      "  memory = ConversationBufferMemory(return_messages=True, memory_key='chat_history')\n"
     ]
    },
    {
     "data": {
      "text/plain": [
       "{'chat_history': []}"
      ]
     },
     "execution_count": 3,
     "metadata": {},
     "output_type": "execute_result"
    }
   ],
   "source": [
    "from langchain.memory import ConversationBufferMemory\n",
    "from langchain_core.prompts import ChatPromptTemplate, MessagesPlaceholder\n",
    "from langchain_core.runnables import RunnableLambda, RunnablePassthrough\n",
    "from langchain_openai import ChatOpenAI\n",
    "\n",
    "llm = ChatOpenAI(model='gpt-4.1-nano', temperature=0)\n",
    "\n",
    "prompt = ChatPromptTemplate(\n",
    "    [\n",
    "        ('system', '넌 유용한 챗봇이야'),\n",
    "        MessagesPlaceholder(variable_name='chat_history'),  # 기존 채팅 내역을 다 주입\n",
    "        ('human', '{input}'),\n",
    "    ]\n",
    ")\n",
    "\n",
    "memory = ConversationBufferMemory(return_messages=True, memory_key='chat_history')\n",
    "\n",
    "# 메모리를 저장할 변수는 {}다. 기존에 대화내용이 있다면 불러와라\n",
    "memory.load_memory_variables({})"
   ]
  },
  {
   "cell_type": "code",
   "execution_count": 4,
   "id": "dbff27d7",
   "metadata": {},
   "outputs": [],
   "source": [
    "from operator import itemgetter\n",
    "runnable = RunnablePassthrough.assign(\n",
    "    chat_history = RunnableLambda(memory.load_memory_variables)|\n",
    "    itemgetter('chat_history')\n",
    ")"
   ]
  },
  {
   "cell_type": "code",
   "execution_count": 5,
   "id": "b70a4d16",
   "metadata": {},
   "outputs": [],
   "source": [
    "chain = runnable | prompt | llm"
   ]
  },
  {
   "cell_type": "code",
   "execution_count": 6,
   "id": "24bb67b7",
   "metadata": {},
   "outputs": [],
   "source": [
    "res = chain.invoke({'input':'만나서 반가워'})"
   ]
  },
  {
   "cell_type": "code",
   "execution_count": 7,
   "id": "8b4bd191",
   "metadata": {},
   "outputs": [
    {
     "data": {
      "text/plain": [
       "'저도 만나서 반가워요! 어떻게 도와드릴까요?'"
      ]
     },
     "execution_count": 7,
     "metadata": {},
     "output_type": "execute_result"
    }
   ],
   "source": [
    "res.content"
   ]
  },
  {
   "cell_type": "code",
   "execution_count": 8,
   "id": "d85d3d36",
   "metadata": {},
   "outputs": [],
   "source": [
    "my_message = '내이름이 뭐라고?'\n",
    "res = chain.invoke({'input':my_message})\n",
    "memory.save_context(\n",
    "    {'human':my_message},\n",
    "    {'ai': res.content}\n",
    ")"
   ]
  },
  {
   "cell_type": "code",
   "execution_count": 9,
   "id": "cdc41cec",
   "metadata": {},
   "outputs": [
    {
     "data": {
      "text/plain": [
       "{'chat_history': [HumanMessage(content='내이름이 뭐라고?', additional_kwargs={}, response_metadata={}),\n",
       "  AIMessage(content='죄송하지만, 제가 당신의 이름을 알지 못해요. 이름을 알려주시면 기억해둘게요!', additional_kwargs={}, response_metadata={})]}"
      ]
     },
     "execution_count": 9,
     "metadata": {},
     "output_type": "execute_result"
    }
   ],
   "source": [
    "memory.load_memory_variables({})"
   ]
  },
  {
   "cell_type": "code",
   "execution_count": 2,
   "id": "c6a69209",
   "metadata": {},
   "outputs": [
    {
     "data": {
      "text/plain": [
       "True"
      ]
     },
     "execution_count": 2,
     "metadata": {},
     "output_type": "execute_result"
    }
   ],
   "source": [
    "from dotenv import load_dotenv\n",
    "load_dotenv()"
   ]
  },
  {
   "cell_type": "code",
   "execution_count": null,
   "id": "4da01a37",
   "metadata": {},
   "outputs": [
    {
     "name": "stderr",
     "output_type": "stream",
     "text": [
      "C:\\Users\\mingyu\\AppData\\Local\\Temp\\ipykernel_19500\\3433334491.py:19: LangChainDeprecationWarning: Please see the migration guide at: https://python.langchain.com/docs/versions/migrating_memory/\n",
      "  memory = ConversationBufferMemory(return_messages = True, memory_key = 'chat_history')\n"
     ]
    }
   ],
   "source": [
    "import time\n",
    "from operator import itemgetter\n",
    "from langchain.memory import ConversationBufferMemory\n",
    "from langchain_core.prompts import ChatPromptTemplate, MessagesPlaceholder\n",
    "from langchain_core.runnables import RunnableLambda, RunnablePassthrough\n",
    "from langchain_core.output_parsers import PydanticOutputParser, StrOutputParser\n",
    "from langchain_openai import ChatOpenAI\n",
    "from pydantic import BaseModel, Field\n",
    "\n",
    "llm = ChatOpenAI(model = 'gpt-4.1-nano',temperature = 0)\n",
    "prompt = ChatPromptTemplate(\n",
    "    [\n",
    "        ('system','넌 좀 틱틱대는 챗봇이야.'),\n",
    "        MessagesPlaceholder(variable_name = 'chat_history'),\n",
    "        ('human','{input}')\n",
    "    ]\n",
    ")\n",
    "#Memory\n",
    "memory = ConversationBufferMemory(return_messages = True, memory_key = 'chat_history')\n",
    "runnable = RunnablePassthrough.assign(\n",
    "    chat_history = RunnableLambda(memory.load_memory_variables)|\n",
    "    itemgetter('chat_history')\n",
    ")\n",
    "chain = runnable | prompt | llm |StrOutputParser()\n",
    "def stream_msg(chain, msg):\n",
    "    full_msg = ''\n",
    "    print('AI:',end='')\n",
    "    for token in chain.stream({'input':msg}):\n",
    "        full_msg += token\n",
    "        print(token, end = '', flush=True)\n",
    "    print('\\n---')\n",
    "    return full_msg\n",
    "\n"
   ]
  },
  {
   "cell_type": "code",
   "execution_count": null,
   "id": "2828b5bd",
   "metadata": {},
   "outputs": [],
   "source": []
  }
 ],
 "metadata": {
  "kernelspec": {
   "display_name": "base",
   "language": "python",
   "name": "python3"
  },
  "language_info": {
   "codemirror_mode": {
    "name": "ipython",
    "version": 3
   },
   "file_extension": ".py",
   "mimetype": "text/x-python",
   "name": "python",
   "nbconvert_exporter": "python",
   "pygments_lexer": "ipython3",
   "version": "3.12.7"
  }
 },
 "nbformat": 4,
 "nbformat_minor": 5
}
