{
 "cells": [
  {
   "cell_type": "markdown",
   "id": "d17625a9",
   "metadata": {},
   "source": [
    "# Memory( 대화 내용 기억)\n",
    "- 대화 내용 기억\n",
    "- LLM은 기본적으로 대화 내용을 기억하지 않는다.(stateless)\n",
    "- 이전 대화내용을 게속 프롬프트에 주입해야 함\n",
    "1. Short-Term Mermory\n",
    "    - 단기기억: 한 대화 세션에 대한 기억\n",
    "1. Long-Term Memory\n",
    "    - 장기기억: 전체 세션에서 추출한 중요한 정보"
   ]
  },
  {
   "cell_type": "code",
   "execution_count": 2,
   "id": "adcf4dae",
   "metadata": {},
   "outputs": [
    {
     "data": {
      "text/plain": [
       "True"
      ]
     },
     "execution_count": 2,
     "metadata": {},
     "output_type": "execute_result"
    }
   ],
   "source": [
    "from dotenv import load_dotenv\n",
    "load_dotenv()"
   ]
  },
  {
   "cell_type": "code",
   "execution_count": 3,
   "id": "559e6c27",
   "metadata": {},
   "outputs": [
    {
     "name": "stderr",
     "output_type": "stream",
     "text": [
      "C:\\Users\\mingyu\\AppData\\Local\\Temp\\ipykernel_26880\\3956690423.py:16: LangChainDeprecationWarning: Please see the migration guide at: https://python.langchain.com/docs/versions/migrating_memory/\n",
      "  memory = ConversationBufferMemory(return_messages=True, memory_key='chat_history')\n"
     ]
    },
    {
     "data": {
      "text/plain": [
       "{'chat_history': []}"
      ]
     },
     "execution_count": 3,
     "metadata": {},
     "output_type": "execute_result"
    }
   ],
   "source": [
    "from langchain.memory import ConversationBufferMemory\n",
    "from langchain_core.prompts import ChatPromptTemplate, MessagesPlaceholder\n",
    "from langchain_core.runnables import RunnableLambda, RunnablePassthrough\n",
    "from langchain_openai import ChatOpenAI\n",
    "\n",
    "llm = ChatOpenAI(model='gpt-4.1-nano', temperature=0)\n",
    "\n",
    "prompt = ChatPromptTemplate(\n",
    "    [\n",
    "        ('system', '넌 유용한 챗봇이야'),\n",
    "        MessagesPlaceholder(variable_name='chat_history'),  # 기존 채팅 내역을 다 주입\n",
    "        ('human', '{input}'),\n",
    "    ]\n",
    ")\n",
    "\n",
    "memory = ConversationBufferMemory(return_messages=True, memory_key='chat_history')\n",
    "\n",
    "# 메모리를 저장할 변수는 {}다. 기존에 대화내용이 있다면 불러와라\n",
    "memory.load_memory_variables({})"
   ]
  },
  {
   "cell_type": "code",
   "execution_count": 4,
   "id": "dbff27d7",
   "metadata": {},
   "outputs": [],
   "source": [
    "from operator import itemgetter\n",
    "runnable = RunnablePassthrough.assign(\n",
    "    chat_history = RunnableLambda(memory.load_memory_variables)|\n",
    "    itemgetter('chat_history')\n",
    ")"
   ]
  },
  {
   "cell_type": "code",
   "execution_count": 5,
   "id": "b70a4d16",
   "metadata": {},
   "outputs": [],
   "source": [
    "chain = runnable | prompt | llm"
   ]
  },
  {
   "cell_type": "code",
   "execution_count": 6,
   "id": "24bb67b7",
   "metadata": {},
   "outputs": [],
   "source": [
    "res = chain.invoke({'input':'만나서 반가워'})"
   ]
  },
  {
   "cell_type": "code",
   "execution_count": 7,
   "id": "8b4bd191",
   "metadata": {},
   "outputs": [
    {
     "data": {
      "text/plain": [
       "'저도 만나서 반가워요! 어떻게 도와드릴까요?'"
      ]
     },
     "execution_count": 7,
     "metadata": {},
     "output_type": "execute_result"
    }
   ],
   "source": [
    "res.content"
   ]
  },
  {
   "cell_type": "code",
   "execution_count": 8,
   "id": "d85d3d36",
   "metadata": {},
   "outputs": [],
   "source": [
    "my_message = '내이름이 뭐라고?'\n",
    "res = chain.invoke({'input':my_message})\n",
    "memory.save_context(\n",
    "    {'human':my_message},\n",
    "    {'ai': res.content}\n",
    ")"
   ]
  },
  {
   "cell_type": "code",
   "execution_count": 9,
   "id": "cdc41cec",
   "metadata": {},
   "outputs": [
    {
     "data": {
      "text/plain": [
       "{'chat_history': [HumanMessage(content='내이름이 뭐라고?', additional_kwargs={}, response_metadata={}),\n",
       "  AIMessage(content='죄송하지만, 제가 당신의 이름을 알지 못해요. 이름을 알려주시면 기억해둘게요!', additional_kwargs={}, response_metadata={})]}"
      ]
     },
     "execution_count": 9,
     "metadata": {},
     "output_type": "execute_result"
    }
   ],
   "source": [
    "memory.load_memory_variables({})"
   ]
  },
  {
   "cell_type": "code",
   "execution_count": 2,
   "id": "c6a69209",
   "metadata": {},
   "outputs": [
    {
     "data": {
      "text/plain": [
       "True"
      ]
     },
     "execution_count": 2,
     "metadata": {},
     "output_type": "execute_result"
    }
   ],
   "source": [
    "from dotenv import load_dotenv\n",
    "load_dotenv()"
   ]
  },
  {
   "cell_type": "code",
   "execution_count": null,
   "id": "4da01a37",
   "metadata": {},
   "outputs": [
    {
     "name": "stderr",
     "output_type": "stream",
     "text": [
      "C:\\Users\\mingyu\\AppData\\Local\\Temp\\ipykernel_19500\\3433334491.py:19: LangChainDeprecationWarning: Please see the migration guide at: https://python.langchain.com/docs/versions/migrating_memory/\n",
      "  memory = ConversationBufferMemory(return_messages = True, memory_key = 'chat_history')\n"
     ]
    }
   ],
   "source": [
    "import time\n",
    "from operator import itemgetter\n",
    "from langchain.memory import ConversationBufferMemory\n",
    "from langchain_core.prompts import ChatPromptTemplate, MessagesPlaceholder\n",
    "from langchain_core.runnables import RunnableLambda, RunnablePassthrough\n",
    "from langchain_core.output_parsers import PydanticOutputParser, StrOutputParser\n",
    "from langchain_openai import ChatOpenAI\n",
    "from pydantic import BaseModel, Field\n",
    "\n",
    "llm = ChatOpenAI(model = 'gpt-4.1-nano',temperature = 0)\n",
    "prompt = ChatPromptTemplate(\n",
    "    [\n",
    "        ('system','넌 좀 틱틱대는 챗봇이야.'),\n",
    "        MessagesPlaceholder(variable_name = 'chat_history'),\n",
    "        ('human','{input}')\n",
    "    ]\n",
    ")\n",
    "#Memory\n",
    "memory = ConversationBufferMemory(return_messages = True, memory_key = 'chat_history')\n",
    "runnable = RunnablePassthrough.assign(\n",
    "    chat_history = RunnableLambda(memory.load_memory_variables)|\n",
    "    itemgetter('chat_history')\n",
    ")\n",
    "chain = runnable | prompt | llm |StrOutputParser()\n",
    "def stream_msg(chain, msg):\n",
    "    full_msg = ''\n",
    "    print('AI:',end='')\n",
    "    for token in chain.stream({'input':msg}):\n",
    "        full_msg += token\n",
    "        print(token, end = '', flush=True)\n",
    "    print('\\n---')\n",
    "    return full_msg\n",
    "\n"
   ]
  },
  {
   "cell_type": "markdown",
   "id": "1d114b97",
   "metadata": {},
   "source": [
    "# Tavily Web Search\n",
    "- LLM에게 웹검색을 쥐어주자"
   ]
  },
  {
   "cell_type": "code",
   "execution_count": 1,
   "id": "2828b5bd",
   "metadata": {},
   "outputs": [
    {
     "data": {
      "text/plain": [
       "True"
      ]
     },
     "execution_count": 1,
     "metadata": {},
     "output_type": "execute_result"
    }
   ],
   "source": [
    "from dotenv import load_dotenv\n",
    "from pprint import pprint\n",
    "load_dotenv()"
   ]
  },
  {
   "cell_type": "code",
   "execution_count": 4,
   "id": "8981ed01",
   "metadata": {},
   "outputs": [
    {
     "name": "stdout",
     "output_type": "stream",
     "text": [
      "Note: you may need to restart the kernel to use updated packages.\n"
     ]
    }
   ],
   "source": [
    "%pip install -q langchain_tavily"
   ]
  },
  {
   "cell_type": "code",
   "execution_count": 15,
   "id": "79d3b273",
   "metadata": {},
   "outputs": [],
   "source": [
    "from langchain_tavily import TavilySearch\n",
    "search_tool = TavilySearch(\n",
    "    max_results = 5,\n",
    "    topic='general',\n",
    ")"
   ]
  },
  {
   "cell_type": "code",
   "execution_count": null,
   "id": "f747fc22",
   "metadata": {},
   "outputs": [
    {
     "name": "stdout",
     "output_type": "stream",
     "text": [
      "[{'content': '강남신세계백화점 레스토랑맛집 (9곳) · 1. 더 마고 그릴 반포 · 2. 모던눌랑 강남고속터미널 · 3. 에토레 '\n",
      "             '파미에스테이션 · 4. 쓰리버즈 센트럴시티점 · 5. 더 키친 일뽀르노',\n",
      "  'raw_content': None,\n",
      "  'score': 0.7062922,\n",
      "  'title': \"'강남신세계백화점 레스토랑' 맛집 빅데이터 추천순위 Top9 - 다이닝코드\",\n",
      "  'url': 'https://www.diningcode.com/list.dc?query=%EA%B0%95%EB%82%A8%EC%8B%A0%EC%84%B8%EA%B3%84%EB%B0%B1%ED%99%94%EC%A0%90%20%EB%A0%88%EC%8A%A4%ED%86%A0%EB%9E%91'},\n",
      " {'content': '신세계 팩토리스토어 신세계 스타일마켓 신세계 푸드마켓 * 신세계 브랜드 신세계 아카데미;) 신세계 온 아카데미 '\n",
      "             '신세계 문화홀 신세계 VIP 클럽 + 혜택 안내 + 신세계 카드 * 신세계 아카데미 * 신세계 아카데미 * 신세계 '\n",
      "             '문화홀 * 신세계 VIP 클럽 MY 신세계 MY 신세계 정상영업 10:30~20:00 연장영업 10:30~20:30 '\n",
      "             '식당가영업 11:00~21:30 식당가 주문 마감 폐점 30분 전(단, 재료 소진 시 조기 마감 가능)  [하우스 '\n",
      "             '오브 신세계] 주중/주말 10:30~22:00 \\\\* 주문 마감 1시간 전(단, 재료 소진 시 조기 마감 가능)  '\n",
      "             '[B1 까사빠보/렌위치/브라우터/파이브가이즈] 10:30-21:00 (연장 영업 10:30-21:30), [B1 '\n",
      "             '%아라비카] 10:30-21:00 [신세계 팩토리스토어 강남점] 주중/주말 11:00~21:00  [신세계 푸드마켓 '\n",
      "             '도곡점] 주중/주말 10:30~22:00 (둘째, 넷째 주 일요일 정기휴점) \\\\* 서울 강남구 언주로30길 57  '\n",
      "             '[파미에스테이션] 연중무휴 \\\\* 병원, 약국, 미용실, 비식음매장 등 일부 매장은 휴점 (매장별 휴점일 상이)',\n",
      "  'raw_content': None,\n",
      "  'score': 0.6426349,\n",
      "  'title': '레스토랑 | 강남점 - 신세계백화점',\n",
      "  'url': 'https://www.shinsegae.com/store/restaurant.do'},\n",
      " {'content': 'Apr 3, 2022·카테고리 이동 맛집,혼자여행 좋아하는 댕양 ; 고래사어묵 신세계백화점 강남점. 서울특별시 '\n",
      "             '서초구 신반포로 176 신세계백화점 B1층 ; 도제 신세계백화점',\n",
      "  'raw_content': None,\n",
      "  'score': 0.609455,\n",
      "  'title': '강남 신세계백화점 맛집 센트럴시티 푸드코트 먹거리 알려드려욤',\n",
      "  'url': 'https://m.blog.naver.com/yunjung7870/222690423268'},\n",
      " {'content': 'Feb 18, 2021·오규당은 멘치카츠를 전문적으로 파는 곳이고, 대왕불초밥 , 포크롤 이런거 파는곳 · 즉, '\n",
      "             '약간 칼로리 높아보이는데 한번보면 먹고싶은 느낌 확 드는 그런',\n",
      "  'raw_content': None,\n",
      "  'score': 0.5996498,\n",
      "  'title': '강남 신세계백화점 지하식품관 푸드코트 맛집 정리 - 블로그',\n",
      "  'url': 'https://m.blog.naver.com/rlaguseod/222247815881'},\n",
      " {'content': '# 2025년 신세계 강남점 추천 식당 (9월 업데이트) 리뷰 1개*\\uf74b* ## 신세계 강남점 주소: 주소 '\n",
      "             ': 서울 서초구 신반포로 176 신세계백화점 강남점 지하1층 하우스오브신세계 #실내데이트 #부창제과 * ## 신세계 '\n",
      "             '강남 디저트파크 신세계 강남 지하 식품관에 디저트 다양하게 생겨서 너무 좋음 신세계 강남점 관련 모먼트 더보기 '\n",
      "             '신세계 백화점의 본점, 강남점, 센텀시티에서 : (신세계 백화점 강남점) 지하 1층 특별행사장 : 신세계 강남점 '\n",
      "             '지하1층 특설행사장 * ## 봄 벚꽃 장식으로 화려하게 활짝 핀 🌸 신세계 백화점 강남점 로비와 옥상공원 데이트 📍 '\n",
      "             '신세계백화점 강남점 : 서울특별시 서초구 신반포로 176 🐿️ 봄 컨셉으로 아름답게 단장한 신세계 백화점 강남점의 '\n",
      "             '로비와 옥상정원을 봄데이트 장소로 소개드려요! 백화점 옥상에는 신세계 가든이 있는데 봄의 숲 컨셉으로 다람쥐와 '\n",
      "             '초록초록한 꽃과 식물들이 곳곳에 배치되어 있어서 천천히 산책하며 구경을 해보실 수 있어요!',\n",
      "  'raw_content': None,\n",
      "  'score': 0.5843666,\n",
      "  'title': '2025년 신세계 강남점 추천 식당 (9월 업데이트)| Trip Moments',\n",
      "  'url': 'https://kr.trip.com/moments/theme/poi-shinsegae-gangnam-136063632-restaurants-993134/'}]\n"
     ]
    }
   ],
   "source": [
    "res = search_tool.invoke({'query':'강남신세계에서 밥먹을만한 곳 알려줘'})\n",
    "res['results']\n"
   ]
  }
 ],
 "metadata": {
  "kernelspec": {
   "display_name": "base",
   "language": "python",
   "name": "python3"
  },
  "language_info": {
   "codemirror_mode": {
    "name": "ipython",
    "version": 3
   },
   "file_extension": ".py",
   "mimetype": "text/x-python",
   "name": "python",
   "nbconvert_exporter": "python",
   "pygments_lexer": "ipython3",
   "version": "3.12.7"
  }
 },
 "nbformat": 4,
 "nbformat_minor": 5
}
