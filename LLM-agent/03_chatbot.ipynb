{
 "cells": [
  {
   "cell_type": "markdown",
   "id": "6ae6ebd1",
   "metadata": {},
   "source": [
    "# Build Chatbot\n",
    "`11_chatbot.ipynb`\n",
    "- https://python.langchain.com/docs/tutorials/chatbot/"
   ]
  },
  {
   "cell_type": "code",
   "execution_count": 1,
   "id": "112382ab",
   "metadata": {},
   "outputs": [
    {
     "data": {
      "text/plain": [
       "True"
      ]
     },
     "execution_count": 1,
     "metadata": {},
     "output_type": "execute_result"
    }
   ],
   "source": [
    "from dotenv import load_dotenv\n",
    "from langchain_openai import ChatOpenAI\n",
    "\n",
    "load_dotenv()"
   ]
  },
  {
   "cell_type": "code",
   "execution_count": 2,
   "id": "ddd89ef3",
   "metadata": {},
   "outputs": [
    {
     "name": "stdout",
     "output_type": "stream",
     "text": [
      "==================================\u001b[1m Ai Message \u001b[0m==================================\n",
      "\n",
      "Hi, Bob! Nice to meet you.\n"
     ]
    }
   ],
   "source": [
    "from langchain_core.messages import HumanMessage, AIMessage\n",
    "\n",
    "messages = [\n",
    "    HumanMessage(content='Hi!, I am bob.'),\n",
    "    AIMessage(content='Hello bob. how can I help you.'),\n",
    "    HumanMessage(content='Say my name.')\n",
    "]\n",
    "\n",
    "llm = ChatOpenAI(model='gpt-4.1-nano', temperature=0)\n",
    "\n",
    "res = llm.invoke(messages)\n",
    "\n",
    "res.pretty_print()"
   ]
  },
  {
   "cell_type": "code",
   "execution_count": 3,
   "id": "8619d163",
   "metadata": {},
   "outputs": [],
   "source": [
    "from langgraph.checkpoint.memory import MemorySaver\n",
    "from langgraph.graph import START, END, MessagesState, StateGraph\n",
    "\n",
    "# Graph Builider\n",
    "builder = StateGraph(state_schema=MessagesState)\n",
    "\n",
    "# Node\n",
    "def simple_node(state: MessagesState):\n",
    "    res = llm.invoke(state['messages'])\n",
    "    return {'messages': res}\n",
    "\n",
    "builder.add_node('simple_node', simple_node)\n",
    "\n",
    "# Edge (Node 끼리 연결)\n",
    "builder.add_edge(START, 'simple_node')\n",
    "builder.add_edge('simple_node', END)\n",
    "\n",
    "# Memory (대화내역 기록)\n",
    "memory = MemorySaver()\n",
    "\n",
    "# Graph (그래프 생성)\n",
    "graph = builder.compile(checkpointer=memory)"
   ]
  },
  {
   "cell_type": "code",
   "execution_count": 4,
   "id": "25562645",
   "metadata": {},
   "outputs": [
    {
     "data": {
      "text/plain": [
       "{'messages': [HumanMessage(content='Hi!, I am bob.', additional_kwargs={}, response_metadata={}, id='d8d139a0-de45-40ca-9765-f30c4f3cdd42'),\n",
       "  AIMessage(content='Hello bob. how can I help you.', additional_kwargs={}, response_metadata={}, id='16c92206-0623-4dec-be23-146775a93f72'),\n",
       "  HumanMessage(content='Say my name.', additional_kwargs={}, response_metadata={}, id='17abe789-f561-4cee-8cb3-eddf492b0f9f'),\n",
       "  AIMessage(content='Hi, Bob! Nice to meet you.', additional_kwargs={'refusal': None}, response_metadata={'token_usage': {'completion_tokens': 9, 'prompt_tokens': 34, 'total_tokens': 43, 'completion_tokens_details': {'accepted_prediction_tokens': 0, 'audio_tokens': 0, 'reasoning_tokens': 0, 'rejected_prediction_tokens': 0}, 'prompt_tokens_details': {'audio_tokens': 0, 'cached_tokens': 0}}, 'model_name': 'gpt-4.1-nano-2025-04-14', 'system_fingerprint': 'fp_7c233bf9d1', 'id': 'chatcmpl-CDLAr4ScnPsBddIDMO3yALLjjkyBj', 'service_tier': 'default', 'finish_reason': 'stop', 'logprobs': None}, id='run--81a5331d-4486-45ad-8deb-211f473e38bd-0', usage_metadata={'input_tokens': 34, 'output_tokens': 9, 'total_tokens': 43, 'input_token_details': {'audio': 0, 'cache_read': 0}, 'output_token_details': {'audio': 0, 'reasoning': 0}})]}"
      ]
     },
     "execution_count": 4,
     "metadata": {},
     "output_type": "execute_result"
    }
   ],
   "source": [
    "# 설정(conf, config, configuration -> 설정)\n",
    "config = {'configurable': {'thread_id': 'abc123'}}  # 채팅방 아이디 (바뀌면 다른 대화가 된다.)\n",
    "\n",
    "graph.invoke({'messages': messages}, config=config)"
   ]
  },
  {
   "cell_type": "code",
   "execution_count": 5,
   "id": "d4ef9d87",
   "metadata": {},
   "outputs": [
    {
     "name": "stdout",
     "output_type": "stream",
     "text": [
      "f2d62f57-8c54-11f0-8525-005056c00008\n"
     ]
    },
    {
     "data": {
      "text/plain": [
       "{'messages': [HumanMessage(content='say my name.', additional_kwargs={}, response_metadata={}, id='2b810fca-5dee-4dec-9525-b944e8fb8f93'),\n",
       "  AIMessage(content=\"I'm sorry, but I don't have access to your name. Could you please tell me?\", additional_kwargs={'refusal': None}, response_metadata={'token_usage': {'completion_tokens': 18, 'prompt_tokens': 11, 'total_tokens': 29, 'completion_tokens_details': {'accepted_prediction_tokens': 0, 'audio_tokens': 0, 'reasoning_tokens': 0, 'rejected_prediction_tokens': 0}, 'prompt_tokens_details': {'audio_tokens': 0, 'cached_tokens': 0}}, 'model_name': 'gpt-4.1-nano-2025-04-14', 'system_fingerprint': 'fp_7c233bf9d1', 'id': 'chatcmpl-CDLAsb1XubNXVVm4WejLsfvrF6tKn', 'service_tier': 'default', 'finish_reason': 'stop', 'logprobs': None}, id='run--9730f27d-7973-4c45-9bc2-89706658c1ee-0', usage_metadata={'input_tokens': 11, 'output_tokens': 18, 'total_tokens': 29, 'input_token_details': {'audio': 0, 'cache_read': 0}, 'output_token_details': {'audio': 0, 'reasoning': 0}})]}"
      ]
     },
     "execution_count": 5,
     "metadata": {},
     "output_type": "execute_result"
    }
   ],
   "source": [
    "import uuid\n",
    "\n",
    "u_id = uuid.uuid1()\n",
    "print(u_id)\n",
    "\n",
    "config = {'configurable': {'thread_id': '가나다123'}}  # 채팅방 아이디 -> 추후에는 UUID 형식으로 생성\n",
    "messages = [\n",
    "    HumanMessage(content='say my name.')\n",
    "]\n",
    "graph.invoke({'messages': messages}, config=config)"
   ]
  },
  {
   "cell_type": "markdown",
   "id": "6b0f007b",
   "metadata": {},
   "source": [
    "## Langgraph + `PromptTemplate`"
   ]
  },
  {
   "cell_type": "code",
   "execution_count": 6,
   "id": "9f772aab",
   "metadata": {},
   "outputs": [
    {
     "name": "stdout",
     "output_type": "stream",
     "text": [
      "content='너는 해적처럼 말해야해. 대항해 시대 해적을 최대한 따라해 봐.' additional_kwargs={} response_metadata={}\n",
      "content='hi' additional_kwargs={} response_metadata={}\n"
     ]
    }
   ],
   "source": [
    "from langchain_core.prompts import ChatPromptTemplate, MessagesPlaceholder\n",
    "\n",
    "prompt_template = ChatPromptTemplate.from_messages([\n",
    "    ('system', '너는 해적처럼 말해야해. 대항해 시대 해적을 최대한 따라해 봐.'),\n",
    "    MessagesPlaceholder(variable_name='messages')  # 모든 저장된 대화 내용(최신것 포함)\n",
    "])\n",
    "\n",
    "# 실행 예시\n",
    "for msg in prompt_template.invoke({'messages': ['hi']}).messages:\n",
    "    print(msg)"
   ]
  },
  {
   "cell_type": "code",
   "execution_count": 7,
   "id": "0a8937e3",
   "metadata": {},
   "outputs": [],
   "source": [
    "builder = StateGraph(state_schema=MessagesState)\n",
    "\n",
    "def simple_node(state: MessagesState):\n",
    "    # prompt 추가.\n",
    "    \n",
    "    # prompt = prompt_template.invoke(state)\n",
    "    # res = llm.invoke(prompt)\n",
    "    \n",
    "    chain = prompt_template | llm  # 체인 방식\n",
    "    res = chain.invoke(state)\n",
    "\n",
    "    return {'messages': res}\n",
    "\n",
    "builder.add_node('simple_node', simple_node)\n",
    "\n",
    "builder.add_edge(START, 'simple_node')\n",
    "builder.add_edge('simple_node', END)\n",
    "\n",
    "memory = MemorySaver()\n",
    "\n",
    "graph = builder.compile(checkpointer=memory)"
   ]
  },
  {
   "cell_type": "code",
   "execution_count": 8,
   "id": "8bc8f333",
   "metadata": {},
   "outputs": [
    {
     "data": {
      "text/plain": [
       "{'messages': [HumanMessage(content='여기 한국인데', additional_kwargs={}, response_metadata={}, id='7f07f810-8cf6-40f7-9a4c-ffd8e9dc4fb2'),\n",
       "  AIMessage(content='아하, 젠장! 한국이란 말이군! 이 해적의 눈으로 보면, 이 땅은 아시아의 보물섬이로군! 금은보화와 비밀의 항로가 가득한 곳이니, 조심하거라, 친구! 배를 타고 바다를 누비며 새로운 모험을 찾아 떠나야 할 때가 왔도다! 아하하!', additional_kwargs={'refusal': None}, response_metadata={'token_usage': {'completion_tokens': 93, 'prompt_tokens': 38, 'total_tokens': 131, 'completion_tokens_details': {'accepted_prediction_tokens': 0, 'audio_tokens': 0, 'reasoning_tokens': 0, 'rejected_prediction_tokens': 0}, 'prompt_tokens_details': {'audio_tokens': 0, 'cached_tokens': 0}}, 'model_name': 'gpt-4.1-nano-2025-04-14', 'system_fingerprint': 'fp_7c233bf9d1', 'id': 'chatcmpl-CDLAtJP1YLBUMsWULtMWm2xo7Njzk', 'service_tier': 'default', 'finish_reason': 'stop', 'logprobs': None}, id='run--f7358e49-6662-43d4-833b-d07e956e0588-0', usage_metadata={'input_tokens': 38, 'output_tokens': 93, 'total_tokens': 131, 'input_token_details': {'audio': 0, 'cache_read': 0}, 'output_token_details': {'audio': 0, 'reasoning': 0}})]}"
      ]
     },
     "execution_count": 8,
     "metadata": {},
     "output_type": "execute_result"
    }
   ],
   "source": [
    "config = {'configurable': {'thread_id': 'qwer1234'}}  \n",
    "graph.invoke({'messages': [HumanMessage(content='여기 한국인데')]}, config)"
   ]
  },
  {
   "cell_type": "code",
   "execution_count": null,
   "id": "cfb7a232",
   "metadata": {},
   "outputs": [],
   "source": [
    "from langgraph.checkpoint.memory import MemorySaver\n",
    "from langgraph.graph import START, END, MessagesState, StateGraph\n",
    "\n",
    "# 내장된 MessagesState를 확장해서 사용\n",
    "class MyState(MessagesState):\n",
    "    lang:str\n",
    "# Graph Builider\n",
    "builder = StateGraph(state_schema=MessagesState)\n",
    "\n",
    "# Node\n",
    "def simple_node(state: MessagesState):\n",
    "    res = llm.invoke(state['messages'])\n",
    "    return {'messages': res}\n",
    "\n",
    "builder.add_node('simple_node', simple_node)\n",
    "\n",
    "# Edge (Node 끼리 연결)\n",
    "builder.add_edge(START, 'simple_node')\n",
    "builder.add_edge('simple_node', END)\n",
    "\n",
    "# Memory (대화내역 기록)\n",
    "memory = MemorySaver()\n",
    "\n",
    "# Graph (그래프 생성)\n",
    "graph = builder.compile(checkpointer=memory)"
   ]
  },
  {
   "cell_type": "code",
   "execution_count": 13,
   "id": "a72417d8",
   "metadata": {},
   "outputs": [
    {
     "ename": "NameError",
     "evalue": "name 'MyState' is not defined",
     "output_type": "error",
     "traceback": [
      "\u001b[1;31m---------------------------------------------------------------------------\u001b[0m",
      "\u001b[1;31mNameError\u001b[0m                                 Traceback (most recent call last)",
      "Cell \u001b[1;32mIn[13], line 2\u001b[0m\n\u001b[0;32m      1\u001b[0m config \u001b[38;5;241m=\u001b[39m {\u001b[38;5;124m'\u001b[39m\u001b[38;5;124mconfigurable\u001b[39m\u001b[38;5;124m'\u001b[39m:{\u001b[38;5;124m'\u001b[39m\u001b[38;5;124mthread_id\u001b[39m\u001b[38;5;124m'\u001b[39m:\u001b[38;5;124m'\u001b[39m\u001b[38;5;124mabc1\u001b[39m\u001b[38;5;124m'\u001b[39m}}\n\u001b[1;32m----> 2\u001b[0m state: MyState \u001b[38;5;241m=\u001b[39m {\n\u001b[0;32m      3\u001b[0m     \u001b[38;5;124m'\u001b[39m\u001b[38;5;124mmessages\u001b[39m\u001b[38;5;124m'\u001b[39m:[HumanMessage(content \u001b[38;5;241m=\u001b[39m \u001b[38;5;124m'\u001b[39m\u001b[38;5;124mHi. I am bob\u001b[39m\u001b[38;5;124m'\u001b[39m)],\n\u001b[0;32m      4\u001b[0m     \u001b[38;5;124m'\u001b[39m\u001b[38;5;124mlang\u001b[39m\u001b[38;5;124m'\u001b[39m:\u001b[38;5;124m'\u001b[39m\u001b[38;5;124mSpanish\u001b[39m\u001b[38;5;124m'\u001b[39m\n\u001b[0;32m      5\u001b[0m }\n\u001b[0;32m      6\u001b[0m res \u001b[38;5;241m=\u001b[39m graph\u001b[38;5;241m.\u001b[39minvoke(state, config)\n\u001b[0;32m      7\u001b[0m \u001b[38;5;28;01mfor\u001b[39;00m msg \u001b[38;5;129;01min\u001b[39;00m res[\u001b[38;5;124m'\u001b[39m\u001b[38;5;124mmessages\u001b[39m\u001b[38;5;124m'\u001b[39m]:\n",
      "\u001b[1;31mNameError\u001b[0m: name 'MyState' is not defined"
     ]
    }
   ],
   "source": [
    "config = {'configurable':{'thread_id':'abc1'}}\n",
    "state: MyState = {\n",
    "    'messages':[HumanMessage(content = 'Hi. I am bob')],\n",
    "    'lang':'Spanish'\n",
    "}\n",
    "res = graph.invoke(state, config)\n",
    "for msg in res['messages']:\n",
    "    msg "
   ]
  },
  {
   "cell_type": "markdown",
   "id": "a63f2605",
   "metadata": {},
   "source": []
  },
  {
   "cell_type": "markdown",
   "id": "7cf5a05a",
   "metadata": {},
   "source": [
    "# 대화 기록 관리하기\n",
    "- 대화 내역을 관리하지 않으면, LLM의 컨텍스트 윈도우(입력 최대치)를 넘어가 버림."
   ]
  },
  {
   "cell_type": "code",
   "execution_count": null,
   "id": "e4e30171",
   "metadata": {},
   "outputs": [],
   "source": [
    "from langchain_core.messages import SystemMessage, HumanMessage, AIMessage, trim_messages\n",
    "# trim - 정리하다\n",
    "trimmer = trim_message(\n",
    "    max_token = 65, # 최대 65 토큰 까지만 허용\n",
    "    strategy = 'last', # 최신 메시지들을 \n",
    "    token_counter = llm, # llm 모델에 맞춰서 토큰 세고\n",
    "    include_system = True, # system 프롬프트는 포함(정리x)\n",
    "    allow_partial = False, # 메세지 중간에서 자르지는 말고\n",
    "    start_on = 'human'\n",
    ")\n",
    "messages = [\n",
    "    SystemMessage(content = 'you are')\n",
    "]"
   ]
  },
  {
   "cell_type": "code",
   "execution_count": null,
   "id": "2093ca03",
   "metadata": {},
   "outputs": [],
   "source": [
    "def simple_node(state:MyState):\n",
    "    #메세지 정리 -> 프롬프트 생성-> LLM 답변\n",
    "    print('정리전 메시지 개수:',len(state['messages']))\n",
    "    chain = trimmer | prompt_template| llm \n",
    "    "
   ]
  },
  {
   "cell_type": "code",
   "execution_count": null,
   "id": "b034eec8",
   "metadata": {},
   "outputs": [],
   "source": [
    "config = {'configurable':{thread_id}}"
   ]
  }
 ],
 "metadata": {
  "kernelspec": {
   "display_name": "base",
   "language": "python",
   "name": "python3"
  },
  "language_info": {
   "codemirror_mode": {
    "name": "ipython",
    "version": 3
   },
   "file_extension": ".py",
   "mimetype": "text/x-python",
   "name": "python",
   "nbconvert_exporter": "python",
   "pygments_lexer": "ipython3",
   "version": "3.12.7"
  }
 },
 "nbformat": 4,
 "nbformat_minor": 5
}
