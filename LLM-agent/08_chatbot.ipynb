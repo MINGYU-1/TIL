{
 "cells": [
  {
   "cell_type": "code",
   "execution_count": 3,
   "id": "4dd5e18c",
   "metadata": {},
   "outputs": [
    {
     "data": {
      "text/plain": [
       "True"
      ]
     },
     "execution_count": 3,
     "metadata": {},
     "output_type": "execute_result"
    }
   ],
   "source": [
    "from dotenv import load_dotenv\n",
    "from langchain_openai import ChatOpenAI\n",
    "load_dotenv()"
   ]
  },
  {
   "cell_type": "code",
   "execution_count": 9,
   "id": "1beebee1",
   "metadata": {},
   "outputs": [
    {
     "name": "stdout",
     "output_type": "stream",
     "text": [
      "==================================\u001b[1m Ai Message \u001b[0m==================================\n",
      "\n",
      "Hi, Bob!\n"
     ]
    }
   ],
   "source": [
    "from langchain_core.messages import HumanMessage, AIMessage\n",
    "\n",
    "messages = [\n",
    "    HumanMessage(content = 'Hi!, I am bob'),\n",
    "    AIMessage(content = 'Hello bob, how can I help you'),\n",
    "    HumanMessage(content = 'Say my name')\n",
    "]\n",
    "\n",
    "llm = ChatOpenAI(model = 'gpt-4.1-nano',temperature= 0)\n",
    "res = llm.invoke(messages)\n",
    "res.pretty_print()"
   ]
  },
  {
   "cell_type": "code",
   "execution_count": null,
   "id": "42e53825",
   "metadata": {},
   "outputs": [],
   "source": [
    "from langgraph.checkpoint.memory import MemorySaver\n",
    "from langgraph.graph import START, END, MessagesState, StateGraph\n",
    "\n",
    "#Graph Builder\n",
    "builder = StateGraph(state_schema=MessagesState)\n",
    "# Node \n",
    "def simple_node(state:MessagesState):\n",
    "    res = llm.invoke(state['messages'])\n",
    "    return {'messages':res}"
   ]
  }
 ],
 "metadata": {
  "kernelspec": {
   "display_name": "base",
   "language": "python",
   "name": "python3"
  },
  "language_info": {
   "codemirror_mode": {
    "name": "ipython",
    "version": 3
   },
   "file_extension": ".py",
   "mimetype": "text/x-python",
   "name": "python",
   "nbconvert_exporter": "python",
   "pygments_lexer": "ipython3",
   "version": "3.12.7"
  }
 },
 "nbformat": 4,
 "nbformat_minor": 5
}
