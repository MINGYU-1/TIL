{
 "cells": [
  {
   "cell_type": "markdown",
   "id": "2a94938c",
   "metadata": {},
   "source": [
    "# Router\n",
    "- LLM이 특정 상황에서 다음에 실행할 노드를 결정하도록 함"
   ]
  },
  {
   "cell_type": "code",
   "execution_count": 1,
   "id": "b81370a6",
   "metadata": {},
   "outputs": [
    {
     "data": {
      "text/plain": [
       "True"
      ]
     },
     "execution_count": 1,
     "metadata": {},
     "output_type": "execute_result"
    }
   ],
   "source": [
    "from dotenv import load_dotenv\n",
    "load_dotenv()"
   ]
  },
  {
   "cell_type": "code",
   "execution_count": 3,
   "id": "c32272ad",
   "metadata": {},
   "outputs": [],
   "source": [
    "from langchain_openai import ChatOpenAI\n",
    "llm = ChatOpenAI(model =  'gpt-4.1')\n",
    "def multiply(a:int, b:int):\n",
    "    \"\"\"Multiply a and b\n",
    "    Args:\n",
    "        a: first int\n",
    "        b: second int\n",
    "    \"\"\"\n",
    "    return a * b\n",
    "llm_with_tools = llm.bind_tools([multiply])"
   ]
  },
  {
   "cell_type": "code",
   "execution_count": null,
   "id": "9fd7be65",
   "metadata": {},
   "outputs": [
    {
     "data": {
      "image/png": "[encoded data removed]",
      "text/plain": [
       "<IPython.core.display.Image object>"
      ]
     },
     "metadata": {},
     "output_type": "display_data"
    }
   ],
   "source": [
    "from IPython.display import Image, display\n",
    "from langgraph.graph import StateGraph, START, END, MessagesState\n",
    "from langgraph.prebuilt import ToolNode, tools_condition\n",
    "# Node 정의\n",
    "def tool_calling_node(state: MessagesState):\n",
    "    new_messages = [ llm_with_tools.invoke(state['messages'])]\n",
    "    return {\n",
    "        'messages': new_messages\n",
    "    }\n",
    "builder = StateGraph(MessagesState)\n",
    "builder.add_node('tool_calling_node',tool_calling_node)\n",
    "builder.add_node('tools',ToolNode([multiply]))\n",
    "\n",
    "builder.add_edge(START, 'tool_calling_node')\n",
    "builder.add_conditional_edges(\n",
    "    'tool_calling_node',\n",
    "    tools_condition\n",
    ")\n",
    "builder.add_edge('tools',END)\n",
    "graph = builder.compile()\n",
    "display(Image(graph.get_graph().draw_mermaid_png()))"
   ]
  },
  {
   "cell_type": "code",
   "execution_count": 21,
   "id": "7e43e94b",
   "metadata": {},
   "outputs": [
    {
     "name": "stdout",
     "output_type": "stream",
     "text": [
      "{'messages': [HumanMessage(content='2랑 3이랑 곱하면?', additional_kwargs={}, response_metadata={}, id='7de38296-2a0b-487a-a8a3-cb96557aef50'),\n",
      "              AIMessage(content='', additional_kwargs={'tool_calls': [{'id': 'call_LfRs3tNtT2CrXMl2jSKd5NwG', 'function': {'arguments': '{\"a\":2,\"b\":3}', 'name': 'multiply'}, 'type': 'function'}], 'refusal': None}, response_metadata={'token_usage': {'completion_tokens': 17, 'prompt_tokens': 69, 'total_tokens': 86, 'completion_tokens_details': {'accepted_prediction_tokens': 0, 'audio_tokens': 0, 'reasoning_tokens': 0, 'rejected_prediction_tokens': 0}, 'prompt_tokens_details': {'audio_tokens': 0, 'cached_tokens': 0}}, 'model_name': 'gpt-4.1-2025-04-14', 'system_fingerprint': 'fp_daf5fcc80a', 'id': 'chatcmpl-CDPxIRMd07fzG4hmxv3oPD1RtrzjL', 'service_tier': 'default', 'finish_reason': 'tool_calls', 'logprobs': None}, id='run--97d2ecec-44a0-41e0-97a7-83986809e59e-0', tool_calls=[{'name': 'multiply', 'args': {'a': 2, 'b': 3}, 'id': 'call_LfRs3tNtT2CrXMl2jSKd5NwG', 'type': 'tool_call'}], usage_metadata={'input_tokens': 69, 'output_tokens': 17, 'total_tokens': 86, 'input_token_details': {'audio': 0, 'cache_read': 0}, 'output_token_details': {'audio': 0, 'reasoning': 0}}),\n",
      "              ToolMessage(content='6', name='multiply', id='ce020b08-04e4-46e0-9d17-f0cd4a4f4e84', tool_call_id='call_LfRs3tNtT2CrXMl2jSKd5NwG')]}\n"
     ]
    }
   ],
   "source": [
    "from pprint import pprint\n",
    "from langchain_core.messages import HumanMessage\n",
    "messages = [\n",
    "    HumanMessage(content = '2랑 3이랑 곱하면?')\n",
    "]\n",
    "res = graph.invoke({'messages':messages})\n",
    "pprint(res)"
   ]
  },
  {
   "cell_type": "code",
   "execution_count": 22,
   "id": "1c559684",
   "metadata": {},
   "outputs": [
    {
     "name": "stdout",
     "output_type": "stream",
     "text": [
      "================================\u001b[1m Human Message \u001b[0m=================================\n",
      "\n",
      "2랑 3이랑 곱하면?\n",
      "==================================\u001b[1m Ai Message \u001b[0m==================================\n",
      "Tool Calls:\n",
      "  multiply (call_LfRs3tNtT2CrXMl2jSKd5NwG)\n",
      " Call ID: call_LfRs3tNtT2CrXMl2jSKd5NwG\n",
      "  Args:\n",
      "    a: 2\n",
      "    b: 3\n",
      "=================================\u001b[1m Tool Message \u001b[0m=================================\n",
      "Name: multiply\n",
      "\n",
      "6\n"
     ]
    }
   ],
   "source": [
    "for m in res['messages']:\n",
    "    m.pretty_print()"
   ]
  },
  {
   "cell_type": "code",
   "execution_count": 11,
   "id": "86731105",
   "metadata": {},
   "outputs": [
    {
     "name": "stdout",
     "output_type": "stream",
     "text": [
      "================================\u001b[1m Human Message \u001b[0m=================================\n",
      "Name: name1\n",
      "\n",
      "배고파\n",
      "==================================\u001b[1m Ai Message \u001b[0m==================================\n",
      "Name: LLM\n",
      "\n",
      "뭘 먹고 싶으세요?\n",
      "================================\u001b[1m Human Message \u001b[0m=================================\n",
      "Name: user1\n",
      "\n",
      "몰라\n"
     ]
    }
   ],
   "source": [
    "from langchain_core.messages import AIMessage, HumanMessage\n",
    "from pprint import pprint\n",
    "messages=[\n",
    "    HumanMessage(content = '배고파',name = 'name1'),\n",
    "    AIMessage(content = '뭘 먹고 싶으세요?', name = 'LLM'),\n",
    "    HumanMessage(content = '몰라', name = 'user1'),\n",
    "]\n",
    "for msg in messages:\n",
    "    msg.pretty_print()"
   ]
  },
  {
   "cell_type": "code",
   "execution_count": 5,
   "id": "5e04cb78",
   "metadata": {},
   "outputs": [
    {
     "data": {
      "text/plain": [
       "'그럼 가볍게 간식이라도 드시거나, 맛있는 거 먹고 싶은 곳을 생각해보는 것도 좋을 것 같아요! 어떤 걸 먹고 싶은지 떠오르면 말해 주세요.'"
      ]
     },
     "execution_count": 5,
     "metadata": {},
     "output_type": "execute_result"
    }
   ],
   "source": [
    "from dotenv import load_dotenv\n",
    "load_dotenv()\n",
    "from langchain_openai import ChatOpenAI\n",
    "llm  = ChatOpenAI(model = 'gpt-4.1-nano')\n",
    "res = llm.invoke(messages)\n",
    "res.content"
   ]
  },
  {
   "cell_type": "code",
   "execution_count": 19,
   "id": "e6b14023",
   "metadata": {},
   "outputs": [],
   "source": [
    "# Tool Calling(커스텀 툴)\n",
    "\n",
    "def multiply(a:int, b:int) -> int:\n",
    "    '''Multiply a and b\n",
    "    if there is no number, transform text to proper integer\n",
    "\n",
    "    Args:\n",
    "        a: first int\n",
    "        b: second int\n",
    "    '''\n",
    "    return a * b\n",
    "llm_with_tools = llm.bind_tools([multiply])"
   ]
  },
  {
   "cell_type": "code",
   "execution_count": 25,
   "id": "b0d5c22d",
   "metadata": {},
   "outputs": [
    {
     "name": "stdout",
     "output_type": "stream",
     "text": [
      "==================================\u001b[1m Ai Message \u001b[0m==================================\n",
      "Tool Calls:\n",
      "  multiply (call_u6hkQ1s4moQzwKVkekAWAzG9)\n",
      " Call ID: call_u6hkQ1s4moQzwKVkekAWAzG9\n",
      "  Args:\n",
      "    a: 1\n",
      "    b: 2\n"
     ]
    }
   ],
   "source": [
    "res = llm_with_tools.invoke([\n",
    "    HumanMessage(content = '일 곱하기 이가 뭐야?',name = 'user1')\n",
    "])\n",
    "res.pretty_print()"
   ]
  },
  {
   "cell_type": "markdown",
   "id": "c4865326",
   "metadata": {},
   "source": [
    "# 메세지를 `State`로 사용하기"
   ]
  },
  {
   "cell_type": "code",
   "execution_count": null,
   "id": "50115212",
   "metadata": {},
   "outputs": [],
   "source": [
    "from typing_extensions import TypedDict\n",
    "from langchain_core.messages import AnyMessage\n",
    "from typing import Annotated \n",
    "from langgraph.graph.message import add_messages\n",
    "\n",
    "class MessagesState(TypedDict):\n",
    "    messages: Annotated[]\n"
   ]
  },
  {
   "cell_type": "code",
   "execution_count": 28,
   "id": "3b16c4d3",
   "metadata": {},
   "outputs": [
    {
     "data": {
      "text/plain": [
       "True"
      ]
     },
     "execution_count": 28,
     "metadata": {},
     "output_type": "execute_result"
    }
   ],
   "source": [
    "from dotenv import load_dotenv\n",
    "from pprint import pprint\n",
    "load_dotenv()"
   ]
  },
  {
   "cell_type": "code",
   "execution_count": 29,
   "id": "e02b54bb",
   "metadata": {},
   "outputs": [],
   "source": [
    "from langchain_openai import ChatOpenAI\n",
    "llm = ChatOpenAI(model ='gpt-4.1')\n",
    "def multiply(a: int, b: int):\n",
    "    '''multiply a and b\n",
    "    Args:\n",
    "        a: first int\n",
    "        b: second int\n",
    "    '''\n",
    "    return a * b\n",
    "llm_with_tools = llm.bind_tools([multiply])"
   ]
  },
  {
   "cell_type": "code",
   "execution_count": 33,
   "id": "c6144ef7",
   "metadata": {},
   "outputs": [
    {
     "data": {
      "text/plain": [
       "True"
      ]
     },
     "execution_count": 33,
     "metadata": {},
     "output_type": "execute_result"
    }
   ],
   "source": [
    "from dotenv import load_dotenv\n",
    "load_dotenv()"
   ]
  },
  {
   "cell_type": "code",
   "execution_count": null,
   "id": "f6d3e084",
   "metadata": {},
   "outputs": [],
   "source": [
    "from langchain.tools import tool\n",
    "from langchain_openai import ChatOpenAI\n",
    "\n",
    "@tool\n",
    "def multiply(a:int, b:int) -> int:\n",
    "    '''Multiply a and b\n",
    "\n",
    "    Args:\n",
    "        a: first int\n",
    "        b: second int\n",
    "    '''\n",
    "    return a * b\n",
    "@tool\n",
    "def add(a:int, b:int) ->int:\n",
    "    '''01_parsing.ipynb"
   ]
  },
  {
   "cell_type": "code",
   "execution_count": 31,
   "id": "f33d41ea",
   "metadata": {},
   "outputs": [
    {
     "ename": "TypeError",
     "evalue": "<class 'langgraph.prebuilt.tool_node.ToolNode'> is not a generic class",
     "output_type": "error",
     "traceback": [
      "\u001b[31m---------------------------------------------------------------------------\u001b[39m",
      "\u001b[31mTypeError\u001b[39m                                 Traceback (most recent call last)",
      "\u001b[36mCell\u001b[39m\u001b[36m \u001b[39m\u001b[32mIn[31]\u001b[39m\u001b[32m, line 14\u001b[39m\n\u001b[32m     12\u001b[39m builder = StateGraph(MessagesState)\n\u001b[32m     13\u001b[39m builder.add_node(\u001b[33m'\u001b[39m\u001b[33mtool_calling_node\u001b[39m\u001b[33m'\u001b[39m,tool_calling_node)\n\u001b[32m---> \u001b[39m\u001b[32m14\u001b[39m builder.add_node(\u001b[33m'\u001b[39m\u001b[33mtools\u001b[39m\u001b[33m'\u001b[39m,\u001b[43mToolNode\u001b[49m\u001b[43m[\u001b[49m\u001b[43mmultiply\u001b[49m\u001b[43m]\u001b[49m)\n",
      "\u001b[36mFile \u001b[39m\u001b[32mc:\\Users\\mingyu\\AppData\\Local\\Programs\\Python\\Python313\\Lib\\typing.py:432\u001b[39m, in \u001b[36m_tp_cache.<locals>.decorator.<locals>.inner\u001b[39m\u001b[34m(*args, **kwds)\u001b[39m\n\u001b[32m    430\u001b[39m \u001b[38;5;28;01mexcept\u001b[39;00m \u001b[38;5;167;01mTypeError\u001b[39;00m:\n\u001b[32m    431\u001b[39m     \u001b[38;5;28;01mpass\u001b[39;00m  \u001b[38;5;66;03m# All real errors (not unhashable args) are raised below.\u001b[39;00m\n\u001b[32m--> \u001b[39m\u001b[32m432\u001b[39m \u001b[38;5;28;01mreturn\u001b[39;00m \u001b[43mfunc\u001b[49m\u001b[43m(\u001b[49m\u001b[43m*\u001b[49m\u001b[43margs\u001b[49m\u001b[43m,\u001b[49m\u001b[43m \u001b[49m\u001b[43m*\u001b[49m\u001b[43m*\u001b[49m\u001b[43mkwds\u001b[49m\u001b[43m)\u001b[49m\n",
      "\u001b[36mFile \u001b[39m\u001b[32mc:\\Users\\mingyu\\AppData\\Local\\Programs\\Python\\Python313\\Lib\\typing.py:1243\u001b[39m, in \u001b[36m_generic_class_getitem\u001b[39m\u001b[34m(cls, args)\u001b[39m\n\u001b[32m   1241\u001b[39m     \u001b[38;5;28;01mif\u001b[39;00m prepare \u001b[38;5;129;01mis\u001b[39;00m \u001b[38;5;129;01mnot\u001b[39;00m \u001b[38;5;28;01mNone\u001b[39;00m:\n\u001b[32m   1242\u001b[39m         args = prepare(\u001b[38;5;28mcls\u001b[39m, args)\n\u001b[32m-> \u001b[39m\u001b[32m1243\u001b[39m \u001b[43m_check_generic_specialization\u001b[49m\u001b[43m(\u001b[49m\u001b[38;5;28;43mcls\u001b[39;49m\u001b[43m,\u001b[49m\u001b[43m \u001b[49m\u001b[43margs\u001b[49m\u001b[43m)\u001b[49m\n\u001b[32m   1245\u001b[39m new_args = []\n\u001b[32m   1246\u001b[39m \u001b[38;5;28;01mfor\u001b[39;00m param, new_arg \u001b[38;5;129;01min\u001b[39;00m \u001b[38;5;28mzip\u001b[39m(\u001b[38;5;28mcls\u001b[39m.__parameters__, args):\n",
      "\u001b[36mFile \u001b[39m\u001b[32mc:\\Users\\mingyu\\AppData\\Local\\Programs\\Python\\Python313\\Lib\\typing.py:317\u001b[39m, in \u001b[36m_check_generic_specialization\u001b[39m\u001b[34m(cls, arguments)\u001b[39m\n\u001b[32m    315\u001b[39m expected_len = \u001b[38;5;28mlen\u001b[39m(\u001b[38;5;28mcls\u001b[39m.__parameters__)\n\u001b[32m    316\u001b[39m \u001b[38;5;28;01mif\u001b[39;00m \u001b[38;5;129;01mnot\u001b[39;00m expected_len:\n\u001b[32m--> \u001b[39m\u001b[32m317\u001b[39m     \u001b[38;5;28;01mraise\u001b[39;00m \u001b[38;5;167;01mTypeError\u001b[39;00m(\u001b[33mf\u001b[39m\u001b[33m\"\u001b[39m\u001b[38;5;132;01m{\u001b[39;00m\u001b[38;5;28mcls\u001b[39m\u001b[38;5;132;01m}\u001b[39;00m\u001b[33m is not a generic class\u001b[39m\u001b[33m\"\u001b[39m)\n\u001b[32m    318\u001b[39m actual_len = \u001b[38;5;28mlen\u001b[39m(arguments)\n\u001b[32m    319\u001b[39m \u001b[38;5;28;01mif\u001b[39;00m actual_len != expected_len:\n\u001b[32m    320\u001b[39m     \u001b[38;5;66;03m# deal with defaults\u001b[39;00m\n",
      "\u001b[31mTypeError\u001b[39m: <class 'langgraph.prebuilt.tool_node.ToolNode'> is not a generic class"
     ]
    }
   ],
   "source": [
    "from IPython.display import Image, display\n",
    "from langgraph.graph import StateGraph, START, END, MessagesState\n",
    "from langgraph.prebuilt import ToolNode, tools_condition\n",
    "\n",
    "#Node 정의\n",
    "def tool_calling_node(state:MessagesState):\n",
    "    new_messages = [llm_with_tools.invoke(state['messages'])]\n",
    "    return {\n",
    "        'messages':new_messages\n",
    "    }\n",
    "# 그래프 빌드 \n",
    "builder = StateGraph(MessagesState)\n",
    "builder.add_node('tool_calling_node',tool_calling_node)\n",
    "builder.add_node('tools',ToolNode[multiply])"
   ]
  }
 ],
 "metadata": {
  "kernelspec": {
   "display_name": "Python 3",
   "language": "python",
   "name": "python3"
  },
  "language_info": {
   "codemirror_mode": {
    "name": "ipython",
    "version": 3
   },
   "file_extension": ".py",
   "mimetype": "text/x-python",
   "name": "python",
   "nbconvert_exporter": "python",
   "pygments_lexer": "ipython3",
   "version": "3.13.2"
  }
 },
 "nbformat": 4,
 "nbformat_minor": 5
}
